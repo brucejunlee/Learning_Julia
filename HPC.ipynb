{
 "cells": [
  {
   "cell_type": "markdown",
   "metadata": {},
   "source": [
    "# --Julia High Performance Computing--\n",
    "\n",
    "-------------------------------\n",
    "1 **Features**\n",
    "\n",
    "* fast and dynamic\n",
    "\n",
    "> **JIT**(Just In Time) compiled rather than interpreted one:\n",
    "\n",
    "> Just-in-Time compilation is a technique in which the code in a high-level language is converted to machine code for execution on the CPU at runtime. This is in contrast to interpreted languages, whose runtime executes the source language directly. This usually has a significantly higher overhead. On the other hand, **Ahead of Time (AOT)** compilation refers to the technique of converting source language into machine code as a separate step prior to running the code. In this case, the converted machine code can usually be saved to disk as an executable file\n",
    "\n",
    "> This compilation infrastructure is build on top of **LLVM**(Low Level Virtual Machine)\n",
    "\n",
    "> The Julia runtime generates LLVM **Intermediate Representation(IR)** and hands it over to LLVM's JIT compiler, which in turn generates machine code that is executed on the CPU\n",
    "\n",
    "* type system(key ingredient for HPC)\n",
    "\n",
    "> Domain theory by **Dana Scott**\n",
    "\n",
    "> Dataflow-based algorithm\n",
    "\n",
    "* multiple dispatch as its defining paradigm\n",
    "\n",
    "* low-overhead\n",
    "\n",
    "* currently a single-threaded language (although it does perform asynchronous I/O)\n",
    "\n",
    "## Reference\n",
    "Julia High Performance by Avik Sengupta(April 2016)"
   ]
  },
  {
   "cell_type": "markdown",
   "metadata": {},
   "source": [
    "> Example:\n",
    "\n",
    "$$\\sum_{n=1}^{1000} \\frac{1}{n^2}$$"
   ]
  },
  {
   "cell_type": "code",
   "execution_count": 1,
   "metadata": {},
   "outputs": [
    {
     "data": {
      "text/plain": [
       "1.6439345666815615"
      ]
     },
     "execution_count": 1,
     "metadata": {},
     "output_type": "execute_result"
    }
   ],
   "source": [
    "# simple unoptimized Julia code\n",
    "function pisum()\n",
    "    sum = 0.0\n",
    "    # run 500 times\n",
    "    for j = 1:500\n",
    "        # summation of finite series\n",
    "        sum = 0.0\n",
    "        for k = 1:1000\n",
    "            sum += 1.0 / (k * k)\n",
    "        end\n",
    "    end\n",
    "    sum\n",
    "end\n",
    "pisum()"
   ]
  },
  {
   "cell_type": "markdown",
   "metadata": {},
   "source": [
    "-------------------------------\n",
    "2 **Analyzing Julia Performance**\n",
    "\n",
    "* Timing Julia functions"
   ]
  },
  {
   "cell_type": "code",
   "execution_count": 2,
   "metadata": {},
   "outputs": [
    {
     "name": "stdout",
     "output_type": "stream",
     "text": [
      "elapsed time: 0.325793046 seconds\n"
     ]
    }
   ],
   "source": [
    "# print the wall-clock time, not CPU time\n",
    "tic()\n",
    "sqrt(rand(1000))\n",
    "toc()"
   ]
  },
  {
   "cell_type": "code",
   "execution_count": 3,
   "metadata": {},
   "outputs": [
    {
     "name": "stdout",
     "output_type": "stream",
     "text": [
      "  0.000023 seconds (18 allocations: 16.641 KB)\n",
      "  0.015868 seconds (2.30 k allocations: 47.691 KB)\n"
     ]
    }
   ],
   "source": [
    "# macro\n",
    "@time sqrt(rand(1000));\n",
    "\n",
    "s = 0\n",
    "@time for i = 1:1000\n",
    "    s = s + sqrt(i)\n",
    "end"
   ]
  },
  {
   "cell_type": "code",
   "execution_count": 4,
   "metadata": {},
   "outputs": [
    {
     "name": "stdout",
     "output_type": "stream",
     "text": [
      "  0.000053 seconds (9 allocations: 16.078 KB)\n",
      "elapsed time (ns): 53405\n",
      "bytes allocated:   16464\n",
      "pool allocs:       7\n",
      "non-pool GC allocs:2\n"
     ]
    }
   ],
   "source": [
    "# an enhanced version of @time\n",
    "@timev sqrt(rand(1000));"
   ]
  },
  {
   "cell_type": "markdown",
   "metadata": {},
   "source": [
    "* Profiling Julia functions\n",
    "\n",
    "> built-in: sampling profiler\n",
    "\n",
    "> GUI: **Pkg.add(\"ProfileView\")**; and then simply call **ProfileView.view()** instead of **Profile.print()**\n",
    "\n",
    "> measure which lines of code contribute the most to the total execution time of a codebase"
   ]
  },
  {
   "cell_type": "code",
   "execution_count": 5,
   "metadata": {
    "scrolled": true
   },
   "outputs": [
    {
     "name": "stdout",
     "output_type": "stream",
     "text": [
      "75 ./task.jl:360; (::IJulia.##13#19)()\n",
      " 75 ...IJulia/src/eventloop.jl:8; eventloop(::ZMQ.Socket)\n",
      "  75 ...rc/execute_request.jl:157; execute_request(::ZMQ.Socket, ::I...\n",
      "   75 ./loading.jl:441; include_string(::String, ::String)\n",
      "    74 ./<missing>:?; anonymous\n",
      "     74 ./profile.jl:16; macro expansion;\n",
      "      25 ./In[5]:6; testfunc;\n"
     ]
    }
   ],
   "source": [
    "using Base.Profile\n",
    "# the profiler stores its samples in memory to be viewed later\n",
    "Profile.clear()\n",
    "function testfunc()\n",
    "    # 1000 sets of 10000 random numbers\n",
    "    x = rand(10000, 1000)\n",
    "    y = std(x, 1)\n",
    "    return y\n",
    "end\n",
    "# sampling interval, the default delay is 1 millisecond on Linux\n",
    "Profile.init(delay = 0.01)\n",
    "# collect profile samples\n",
    "@profile testfunc()\n",
    "\n",
    "Profile.print()"
   ]
  },
  {
   "cell_type": "markdown",
   "metadata": {},
   "source": [
    "* Tracking detailed memory allocation\n",
    "\n",
    "> **julia**> track -allocation=user\n",
    "\n",
    "> Julia will track all the memory used, which will be written to .mem files when Julia exits.\n",
    "\n",
    "> When running Julia code, the compiler will compile user code at runtime. Once again, we do not want to measure the memory allocation due to the compiler. To achieve this,  rst run the code under measurement once, after starting the Julia process. Then run the **Profile.clear_malloc_data()** function to restart the allocation measurement counters. Finally, run the code under measurement once again, and then exit the process. This way, we will\n",
    "get the most accurate memory measurements."
   ]
  },
  {
   "cell_type": "markdown",
   "metadata": {},
   "source": [
    "* Accurate benchmarking\n",
    "\n",
    "> Pkg.clone(\"https://github.com/johnmyleswhite/Benchmarks.jl.git\")\n",
    "\n",
    "> The output will show the mean time taken to run the code, but with statistically accurate upper and lower bounds. These statistics are computed using an ordinary least squares fit of the measured execution time to estimate the expected distribution"
   ]
  },
  {
   "cell_type": "code",
   "execution_count": 6,
   "metadata": {},
   "outputs": [
    {
     "data": {
      "text/plain": [
       "================ Benchmark Results ========================\n",
       "     Time per evaluation: 9.72 μs [9.04 μs, 10.40 μs]\n",
       "Proportion of time in GC: 1.73% [0.93%, 2.54%]\n",
       "        Memory allocated: 7.97 kb\n",
       "   Number of allocations: 3 allocations\n",
       "       Number of samples: 5901\n",
       "   Number of evaluations: 554601\n",
       "         R² of OLS model: 0.554\n",
       " Time spent benchmarking: 10.83 s\n"
      ]
     },
     "execution_count": 6,
     "metadata": {},
     "output_type": "execute_result"
    }
   ],
   "source": [
    "using Benchmarks\n",
    "# Unlike @time however, this macro can only be used in front of function calls, rather than any expression\n",
    "@benchmark sqrt(rand(1000))"
   ]
  },
  {
   "cell_type": "markdown",
   "metadata": {},
   "source": [
    "-------------------------------\n",
    "3 **Types**\n",
    "\n",
    "* The Julia type system\n",
    "\n",
    "> Function is an abstract operation represented by a name\n",
    "\n",
    "> Methods are the individual implementations for specific types\n",
    "\n",
    "> Dispatch is the process of selecting a function to be executed at runtime\n",
    "\n",
    "> Dispatch is a **runtime** process, while method overloading is a **compile-time** concept\n",
    "\n",
    "> Multiple dispatch is the method of determining the function to be called based on the types of all the parameters of the function\n",
    "\n",
    "> **Abstract** types cannot have any instantiated values. In other words, they can only be the nodes of the type hierarchy, not its leaves. They represent sets of related types. Another special type is the **Void** type. This type has a single instance defined named **nothing**.\n",
    "\n",
    "> **Composite** types in Julia are collections of named fields. They are equivalent to a struct in C and can be thought of as roughly equivalent to a class without behavior in object-oriented languages\n",
    "\n",
    "> By default, the fields of a composite type can be changed at any time. In cases where this is undesirable, an immutable type can be declared using the **immutable** keyword.\n",
    "\n",
    "> Type parameter is analogous to generic or template programming in other languages\n",
    "\n",
    "> Type inference: based on **forward dataflow analysis**, not an implementation of the famous Hindley-Milnor algorithm using unification, which is used in the ML family of languages"
   ]
  },
  {
   "cell_type": "code",
   "execution_count": 7,
   "metadata": {},
   "outputs": [
    {
     "name": "stderr",
     "output_type": "stream",
     "text": [
      "WARNING: Base.ASCIIString is deprecated, use String instead.\n",
      "  likely near In[7]:3\n"
     ]
    },
    {
     "data": {
      "text/plain": [
       "\"a string\""
      ]
     },
     "execution_count": 7,
     "metadata": {},
     "output_type": "execute_result"
    }
   ],
   "source": [
    "# declare type of function argument\n",
    "foo(x::Integer) = \"an integer\"\n",
    "foo(x::ASCIIString) = \"a string\"\n",
    "\n",
    "# declare type of local variable\n",
    "function bar(a, b)\n",
    "    x::Int64 = 0\n",
    "    y = a + b\n",
    "    return y\n",
    "end\n",
    "\n",
    "# dispatch on type of argument\n",
    "foo(1)\n",
    "foo(\"1\")"
   ]
  },
  {
   "cell_type": "code",
   "execution_count": 8,
   "metadata": {},
   "outputs": [
    {
     "data": {
      "text/plain": [
       "-8 + 16im"
      ]
     },
     "execution_count": 8,
     "metadata": {},
     "output_type": "execute_result"
    }
   ],
   "source": [
    "# multiple dispatch\n",
    "sumsqr(x, y) = x^2 + y^2\n",
    "sumsqr(1, 2)\n",
    "sumsqr(1.5, 2.5)\n",
    "sumsqr(1 + 2im, 2 + 3im)"
   ]
  },
  {
   "cell_type": "code",
   "execution_count": 1,
   "metadata": {},
   "outputs": [
    {
     "data": {
      "text/plain": [
       "5-element Array{Int64,1}:\n",
       " 1\n",
       " 2\n",
       " 3\n",
       " 4\n",
       " 5"
      ]
     },
     "execution_count": 1,
     "metadata": {},
     "output_type": "execute_result"
    }
   ],
   "source": [
    "# abstract types\n",
    "\n",
    "# supertype\n",
    "abstract Number   #  <: Any\n",
    "abstract Real     <: Number\n",
    "abstract AbstractFloat <: Real\n",
    "\n",
    "# leaf node\n",
    "# Float64  <: AbstractFloat\n",
    "# Float32  <: AbstractFloat\n",
    "\n",
    "abstract Integer  <: Real\n",
    "abstract Signed   <: Integer\n",
    "abstract Unsigned <: Integer\n",
    "\n",
    "# leaf node\n",
    "# Int64    <: Signed\n",
    "# Int32    <: Signed\n",
    "# UInt64    <: Unsigned\n",
    "# UInt32    <: Unsigned\n",
    "#  abstract None   <: All above\n",
    "\n",
    "type Pixel\n",
    "    x::Int64\n",
    "    y::Int64\n",
    "    color::Int64\n",
    "end\n",
    "p = Pixel(5, 5, 100)\n",
    "p.x = 10\n",
    "p.x\n",
    "\n",
    "immutable IPixel\n",
    "    x::Int64\n",
    "    y::Int64\n",
    "    color::Int64\n",
    "end\n",
    "p = IPixel(5, 5, 100)\n",
    "# p.x = 10\n",
    "\n",
    "immutable Point\n",
    "    x\n",
    "    y\n",
    "end\n",
    "\n",
    "immutable ConcretePoint\n",
    "    x::Float64\n",
    "    y::Float64\n",
    "end\n",
    "\n",
    "immutable PointWithAbstract\n",
    "    x::AbstractFloat\n",
    "    y::AbstractFloat\n",
    "end\n",
    "\n",
    "function ParametricPoint{T <: AbstractFloat}\n",
    "    x::T\n",
    "    y::T\n",
    "end\n",
    "\n",
    "# T is an integer, hexadecimal string or an RGB type \n",
    "# a good example: Array{T,N} where T denotes type of elements and N denotes #(dimension)\n",
    "type ParamPixel{T}\n",
    "    x::Int64\n",
    "    y::Int64\n",
    "    color::T\n",
    "end\n",
    "p = ParamPixel{Int64}(5, 5, 10)\n",
    "p.color\n",
    "\n",
    "# type inference\n",
    "[x for x = 1:5]"
   ]
  },
  {
   "cell_type": "markdown",
   "metadata": {},
   "source": [
    "* Type-stability\n",
    "\n",
    "> the type of the return value of a function is dependent only on the types of its arguments and not the values"
   ]
  },
  {
   "cell_type": "code",
   "execution_count": 4,
   "metadata": {},
   "outputs": [
    {
     "name": "stderr",
     "output_type": "stream",
     "text": [
      "WARNING: Method definition Trunc(Any) in module Main at In[3]:2 overwritten at In[4]:2.\n"
     ]
    },
    {
     "data": {
      "text/plain": [
       "Int64"
      ]
     },
     "execution_count": 4,
     "metadata": {},
     "output_type": "execute_result"
    }
   ],
   "source": [
    "# The return type of the Trunc function, in this case, depends on the value of the input and not just its type.\n",
    "# The type of the argument for both the preceding invocations is Float64. \n",
    "# However, if the value of the input is less than zero, the type of the return is Int64. \n",
    "# On the other hand, if the input is value is zero or greater, then the type of the output is Float64. \n",
    "# This makes the function type-unstable\n",
    "function Trunc(x)\n",
    "    if x < 0\n",
    "        return 0\n",
    "    else\n",
    "        return x\n",
    "    end\n",
    "end\n",
    "\n",
    "Trunc(-1)\n",
    "Trunc(2.5)\n",
    "typeof(Trunc(2.5))\n",
    "typeof(Trunc(-2.5))"
   ]
  },
  {
   "cell_type": "code",
   "execution_count": 6,
   "metadata": {},
   "outputs": [
    {
     "data": {
      "text/plain": [
       "Float64"
      ]
     },
     "execution_count": 6,
     "metadata": {},
     "output_type": "execute_result"
    }
   ],
   "source": [
    "# fixed type-stable code\n",
    "function Trunc_fixed(x)\n",
    "    if x < 0\n",
    "        # here we can also use zero(x) function\n",
    "        if typeof(x) == Float64\n",
    "            return 0.0\n",
    "        elseif typeof(x) == Float32\n",
    "            return Float32(0.0)\n",
    "        elseif typeof(x) == Int64\n",
    "            return 0\n",
    "        end\n",
    "    else\n",
    "        return x\n",
    "    end\n",
    "end\n",
    "\n",
    "Trunc_fixed(-1)\n",
    "Trunc_fixed(2.5)\n",
    "typeof(Trunc_fixed(2.5))\n",
    "typeof(Trunc_fixed(-2.5))"
   ]
  },
  {
   "cell_type": "code",
   "execution_count": 7,
   "metadata": {},
   "outputs": [
    {
     "data": {
      "text/plain": [
       "================ Benchmark Results ========================\n",
       "     Time per evaluation: 11.07 ns [10.86 ns, 11.28 ns]\n",
       "Proportion of time in GC: 0.30% [0.06%, 0.53%]\n",
       "        Memory allocated: 16.00 bytes\n",
       "   Number of allocations: 1 allocations\n",
       "       Number of samples: 11501\n",
       "   Number of evaluations: 115133501\n",
       "         R² of OLS model: 0.894\n",
       " Time spent benchmarking: 10.09 s\n"
      ]
     },
     "execution_count": 7,
     "metadata": {},
     "output_type": "execute_result"
    }
   ],
   "source": [
    "using Benchmarks\n",
    "@benchmark Trunc(2.5)"
   ]
  },
  {
   "cell_type": "code",
   "execution_count": 8,
   "metadata": {},
   "outputs": [
    {
     "data": {
      "text/plain": [
       "================ Benchmark Results ========================\n",
       "     Time per evaluation: 3.35 ns [3.29 ns, 3.41 ns]\n",
       "Proportion of time in GC: 0.00% [0.00%, 0.00%]\n",
       "        Memory allocated: 0.00 bytes\n",
       "   Number of allocations: 0 allocations\n",
       "       Number of samples: 4801\n",
       "   Number of evaluations: 194401\n",
       "         R² of OLS model: 0.955\n",
       " Time spent benchmarking: 3.65 s\n"
      ]
     },
     "execution_count": 8,
     "metadata": {},
     "output_type": "execute_result"
    }
   ],
   "source": [
    "# the type-stable version does not allocate any memory, \n",
    "# while the type-unstable version does allocate quite a lot of memory\n",
    "@benchmark Trunc_fixed(2.5)"
   ]
  },
  {
   "cell_type": "code",
   "execution_count": 9,
   "metadata": {},
   "outputs": [
    {
     "name": "stdout",
     "output_type": "stream",
     "text": [
      "Variables:\n",
      "  #self#::#Trunc\n",
      "  x::Float64\n",
      "  fy::Float64\n",
      "\n",
      "Body:\n",
      "  begin \n",
      "      # meta: location float.jl < 332\n",
      "      fy::Float64 = (Base.box)(Float64,(Base.sitofp)(Float64,0))\n",
      "      # meta: pop location\n",
      "      unless (Base.box)(Base.Bool,(Base.or_int)((Base.lt_float)(x::Float64,fy::Float64)::Bool,(Base.box)(Base.Bool,(Base.and_int)((Base.box)(Base.Bool,(Base.and_int)((Base.eq_float)(x::Float64,fy::Float64)::Bool,(Base.lt_float)(fy::Float64,9.223372036854776e18)::Bool)),(Base.slt_int)((Base.box)(Int64,(Base.fptosi)(Int64,fy::Float64)),0)::Bool)))) goto 7 # line 3:\n",
      "      return 0\n",
      "      7:  # line 5:\n",
      "      return x::Float64\n",
      "  end\u001b[1m\u001b[31m::Union{Float64,Int64}\u001b[0m\n"
     ]
    }
   ],
   "source": [
    "# enables us to view the types inferred by the compiler, \n",
    "# thereby identifying any type instability in our code. \n",
    "# The output is the lowered, type-inferred AST structure\n",
    "\n",
    "@code_warntype Trunc(2.5)"
   ]
  },
  {
   "cell_type": "code",
   "execution_count": 10,
   "metadata": {},
   "outputs": [
    {
     "name": "stdout",
     "output_type": "stream",
     "text": [
      "Variables:\n",
      "  #self#::#Trunc_fixed\n",
      "  x::Float64\n",
      "  fy::Float64\n",
      "\n",
      "Body:\n",
      "  begin \n",
      "      # meta: location float.jl < 332\n",
      "      fy::Float64 = (Base.box)(Float64,(Base.sitofp)(Float64,0))\n",
      "      # meta: pop location\n",
      "      unless (Base.box)(Base.Bool,(Base.or_int)((Base.lt_float)(x::Float64,fy::Float64)::Bool,(Base.box)(Base.Bool,(Base.and_int)((Base.box)(Base.Bool,(Base.and_int)((Base.eq_float)(x::Float64,fy::Float64)::Bool,(Base.lt_float)(fy::Float64,9.223372036854776e18)::Bool)),(Base.slt_int)((Base.box)(Int64,(Base.fptosi)(Int64,fy::Float64)),0)::Bool)))) goto 13 # line 5:\n",
      "      $(QuoteNode(true)) # line 6:\n",
      "      return 0.0 # line 7: # line 8: # line 9: # line 10:\n",
      "      13:  # line 13:\n",
      "      return x::Float64\n",
      "  end::Float64\n"
     ]
    }
   ],
   "source": [
    "@code_warntype Trunc_fixed(2.5)"
   ]
  },
  {
   "cell_type": "code",
   "execution_count": 11,
   "metadata": {},
   "outputs": [
    {
     "name": "stdout",
     "output_type": "stream",
     "text": [
      "\n",
      "define %jl_value_t* @julia_Trunc_71394(double) #0 {\n",
      "top:\n",
      "  %1 = fcmp uge double %0, 0.000000e+00\n",
      "  br i1 %1, label %L, label %if\n",
      "\n",
      "L:                                                ; preds = %top\n",
      "  %2 = call %jl_value_t*** @jl_get_ptls_states() #1\n",
      "  %3 = bitcast %jl_value_t*** %2 to i8*\n",
      "  %4 = call %jl_value_t* @jl_gc_pool_alloc(i8* %3, i32 1384, i32 16)\n",
      "  %5 = getelementptr inbounds %jl_value_t, %jl_value_t* %4, i64 -1, i32 0\n",
      "  store %jl_value_t* inttoptr (i64 4642611376 to %jl_value_t*), %jl_value_t** %5, align 8\n",
      "  %6 = bitcast %jl_value_t* %4 to double*\n",
      "  store double %0, double* %6, align 8\n",
      "  ret %jl_value_t* %4\n",
      "\n",
      "if:                                               ; preds = %top\n",
      "  ret %jl_value_t* inttoptr (i64 4642226272 to %jl_value_t*)\n",
      "}\n"
     ]
    }
   ],
   "source": [
    "# LLVM bitcode produced by Julia compiler\n",
    "# the type-stable function compiles a much smaller amount of code\n",
    "\n",
    "@code_llvm Trunc(2.5)"
   ]
  },
  {
   "cell_type": "code",
   "execution_count": 12,
   "metadata": {},
   "outputs": [
    {
     "name": "stdout",
     "output_type": "stream",
     "text": [
      "\n",
      "define double @julia_Trunc_fixed_71407(double) #0 {\n",
      "top:\n",
      "  %.inv = fcmp olt double %0, 0.000000e+00\n",
      "  %. = select i1 %.inv, double 0.000000e+00, double %0\n",
      "  ret double %.\n",
      "}\n"
     ]
    }
   ],
   "source": [
    "@code_llvm Trunc_fixed(2.5)"
   ]
  },
  {
   "cell_type": "code",
   "execution_count": 13,
   "metadata": {},
   "outputs": [
    {
     "name": "stdout",
     "output_type": "stream",
     "text": [
      "\t.section\t__TEXT,__text,regular,pure_instructions\n",
      "Filename: In[4]\n",
      "\tpushq\t%rbp\n",
      "\tmovq\t%rsp, %rbp\n",
      "\tpushq\t%rbx\n",
      "\tpushq\t%rax\n",
      "\tmovabsq\t$4642226272, %rbx       ## imm = 0x114B2C060\n",
      "Source line: 2\n",
      "\txorps\t%xmm1, %xmm1\n",
      "\tucomisd\t%xmm0, %xmm1\n",
      "\tja\tL94\n",
      "\tmovabsq\t$jl_get_ptls_states_fast, %rax\n",
      "\tmovsd\t%xmm0, -16(%rbp)\n",
      "\tcallq\t*%rax\n",
      "Source line: 5\n",
      "\tmovabsq\t$jl_gc_pool_alloc, %rcx\n",
      "\tmovl\t$1384, %esi             ## imm = 0x568\n",
      "\tmovl\t$16, %edx\n",
      "\tmovq\t%rax, %rdi\n",
      "\tcallq\t*%rcx\n",
      "\taddq\t$385104, %rbx           ## imm = 0x5E050\n",
      "\tmovq\t%rbx, -8(%rax)\n",
      "\tmovsd\t-16(%rbp), %xmm0        ## xmm0 = mem[0],zero\n",
      "\tmovsd\t%xmm0, (%rax)\n",
      "\taddq\t$8, %rsp\n",
      "\tpopq\t%rbx\n",
      "\tpopq\t%rbp\n",
      "\tretq\n",
      "Source line: 3\n",
      "L94:\n",
      "\tmovq\t%rbx, %rax\n",
      "\taddq\t$8, %rsp\n",
      "\tpopq\t%rbx\n",
      "\tpopq\t%rbp\n",
      "\tretq\n",
      "\tnopl\t(%rax,%rax)\n"
     ]
    }
   ],
   "source": [
    "# assembly instructions directly run on the computer's processor\n",
    "\n",
    "@code_native Trunc(2.5)"
   ]
  },
  {
   "cell_type": "code",
   "execution_count": 14,
   "metadata": {},
   "outputs": [
    {
     "name": "stdout",
     "output_type": "stream",
     "text": [
      "\t.section\t__TEXT,__text,regular,pure_instructions\n",
      "Filename: In[6]\n",
      "\tpushq\t%rbp\n",
      "\tmovq\t%rsp, %rbp\n",
      "Source line: 3\n",
      "\txorpd\t%xmm1, %xmm1\n",
      "\tmaxsd\t%xmm0, %xmm1\n",
      "Source line: 13\n",
      "\tmovapd\t%xmm1, %xmm0\n",
      "\tpopq\t%rbp\n",
      "\tretq\n",
      "\tnopw\t%cs:(%rax,%rax)\n"
     ]
    }
   ],
   "source": [
    "@code_native Trunc_fixed(2.5)"
   ]
  },
  {
   "cell_type": "code",
   "execution_count": 15,
   "metadata": {},
   "outputs": [
    {
     "name": "stdout",
     "output_type": "stream",
     "text": [
      "Variables:\n",
      "  #self#::#sumsqrtn\n",
      "  n::Int64\n",
      "  r\u001b[1m\u001b[31m::Any\u001b[0m\n",
      "  #temp#@_4::Int64\n",
      "  i::Int64\n",
      "  #temp#@_6::LambdaInfo\n",
      "  #temp#@_7::Float64\n",
      "\n",
      "Body:\n",
      "  begin \n",
      "      r\u001b[1m\u001b[31m::Any\u001b[0m = 0 # line 3:\n",
      "      SSAValue(2) = (Base.select_value)((Base.sle_int)(1,n::Int64)::Bool,n::Int64,(Base.box)(Int64,(Base.sub_int)(1,1)))::Int64\n",
      "      #temp#@_4::Int64 = 1\n",
      "      5: \n",
      "      unless (Base.box)(Base.Bool,(Base.not_int)((#temp#@_4::Int64 === (Base.box)(Int64,(Base.add_int)(SSAValue(2),1)))::Bool)) goto 30\n",
      "      SSAValue(3) = #temp#@_4::Int64\n",
      "      SSAValue(4) = (Base.box)(Int64,(Base.add_int)(#temp#@_4::Int64,1))\n",
      "      i::Int64 = SSAValue(3)\n",
      "      #temp#@_4::Int64 = SSAValue(4) # line 4:\n",
      "      unless (Core.isa)(r\u001b[1m\u001b[31m::Union{Float64,Int64}\u001b[0m,Float64)\u001b[1m\u001b[31m::Any\u001b[0m goto 15\n",
      "      #temp#@_6::LambdaInfo = LambdaInfo for +(::Float64, ::Float64)\n",
      "      goto 24\n",
      "      15: \n",
      "      unless (Core.isa)(r\u001b[1m\u001b[31m::Union{Float64,Int64}\u001b[0m,Int64)\u001b[1m\u001b[31m::Any\u001b[0m goto 19\n",
      "      #temp#@_6::LambdaInfo = LambdaInfo for +(::Int64, ::Float64)\n",
      "      goto 24\n",
      "      19: \n",
      "      goto 21\n",
      "      21: \n",
      "      #temp#@_7::Float64 = (r\u001b[1m\u001b[31m::Union{Float64,Int64}\u001b[0m + (Base.Math.box)(Base.Math.Float64,(Base.Math.sqrt_llvm)((Base.box)(Float64,(Base.sitofp)(Float64,i::Int64))))::Float64)::Float64\n",
      "      goto 26\n",
      "      24: \n",
      "      #temp#@_7::Float64 = $(Expr(:invoke, :(#temp#@_6), :(Main.+), :(r::Union{Float64,Int64}), :((Base.Math.box)(Base.Math.Float64,(Base.Math.sqrt_llvm)((Base.box)(Float64,(Base.sitofp)(Float64,i))))::Float64)))\n",
      "      26: \n",
      "      r\u001b[1m\u001b[31m::Any\u001b[0m = #temp#@_7::Float64\n",
      "      28: \n",
      "      goto 5\n",
      "      30:  # line 6:\n",
      "      return r\u001b[1m\u001b[31m::Union{Float64,Int64}\u001b[0m\n",
      "  end\u001b[1m\u001b[31m::Union{Float64,Int64}\u001b[0m\n"
     ]
    }
   ],
   "source": [
    "function sumsqrtn(n)\n",
    "    # Int64\n",
    "    r = 0\n",
    "    for i = 1:n\n",
    "        # return Float64\n",
    "        r = r + sqrt(i)\n",
    "    end\n",
    "    return r\n",
    "end\n",
    "@code_warntype sumsqrtn(5)"
   ]
  },
  {
   "cell_type": "code",
   "execution_count": 17,
   "metadata": {},
   "outputs": [
    {
     "name": "stdout",
     "output_type": "stream",
     "text": [
      "Variables:\n",
      "  #self#::#sumsqrtn_fixed\n",
      "  n::Int64\n",
      "  r::Float64\n",
      "  #temp#::Int64\n",
      "  i::Int64\n",
      "\n",
      "Body:\n",
      "  begin \n",
      "      r::Float64 = 0.0 # line 4:\n",
      "      SSAValue(2) = (Base.select_value)((Base.sle_int)(1,n::Int64)::Bool,n::Int64,(Base.box)(Int64,(Base.sub_int)(1,1)))::Int64\n",
      "      #temp#::Int64 = 1\n",
      "      5: \n",
      "      unless (Base.box)(Base.Bool,(Base.not_int)((#temp#::Int64 === (Base.box)(Int64,(Base.add_int)(SSAValue(2),1)))::Bool)) goto 15\n",
      "      SSAValue(3) = #temp#::Int64\n",
      "      SSAValue(4) = (Base.box)(Int64,(Base.add_int)(#temp#::Int64,1))\n",
      "      i::Int64 = SSAValue(3)\n",
      "      #temp#::Int64 = SSAValue(4) # line 6:\n",
      "      r::Float64 = (Base.box)(Base.Float64,(Base.add_float)(r::Float64,(Base.Math.box)(Base.Math.Float64,(Base.Math.sqrt_llvm)((Base.box)(Float64,(Base.sitofp)(Float64,i::Int64))))::Float64))\n",
      "      13: \n",
      "      goto 5\n",
      "      15:  # line 8:\n",
      "      return r::Float64\n",
      "  end::Float64\n"
     ]
    },
    {
     "name": "stderr",
     "output_type": "stream",
     "text": [
      "WARNING: Method definition sumsqrtn_fixed(Any) in module Main at In[16]:3 overwritten at In[17]:3.\n"
     ]
    }
   ],
   "source": [
    "function sumsqrtn_fixed(n)\n",
    "    # Float64\n",
    "    r = 0.0\n",
    "    for i = 1:n\n",
    "        # return Float64\n",
    "        r = r + sqrt(i)\n",
    "    end\n",
    "    return r\n",
    "end\n",
    "@code_warntype sumsqrtn_fixed(5)"
   ]
  },
  {
   "cell_type": "code",
   "execution_count": 18,
   "metadata": {},
   "outputs": [
    {
     "data": {
      "text/plain": [
       "================ Benchmark Results ========================\n",
       "     Time per evaluation: 31.51 ms [27.55 ms, 35.47 ms]\n",
       "Proportion of time in GC: 7.64% [6.73%, 8.55%]\n",
       "        Memory allocated: 45.78 mb\n",
       "   Number of allocations: 3000000 allocations\n",
       "       Number of samples: 100\n",
       "   Number of evaluations: 100\n",
       " Time spent benchmarking: 3.43 s\n"
      ]
     },
     "execution_count": 18,
     "metadata": {},
     "output_type": "execute_result"
    }
   ],
   "source": [
    "@benchmark sumsqrtn(1000_000)"
   ]
  },
  {
   "cell_type": "code",
   "execution_count": 19,
   "metadata": {},
   "outputs": [
    {
     "data": {
      "text/plain": [
       "================ Benchmark Results ========================\n",
       "     Time per evaluation: 8.82 ms [8.47 ms, 9.17 ms]\n",
       "Proportion of time in GC: 0.00% [0.00%, 0.00%]\n",
       "        Memory allocated: 0.00 bytes\n",
       "   Number of allocations: 0 allocations\n",
       "       Number of samples: 100\n",
       "   Number of evaluations: 100\n",
       " Time spent benchmarking: 1.10 s\n"
      ]
     },
     "execution_count": 19,
     "metadata": {},
     "output_type": "execute_result"
    }
   ],
   "source": [
    "@benchmark sumsqrtn_fixed(1000_000)"
   ]
  },
  {
   "cell_type": "code",
   "execution_count": 20,
   "metadata": {},
   "outputs": [
    {
     "data": {
      "text/plain": [
       "================ Benchmark Results ========================\n",
       "     Time per evaluation: 24.60 ms [20.54 ms, 28.66 ms]\n",
       "Proportion of time in GC: 9.88% [8.30%, 11.47%]\n",
       "        Memory allocated: 22.88 mb\n",
       "   Number of allocations: 999492 allocations\n",
       "       Number of samples: 100\n",
       "   Number of evaluations: 100\n",
       " Time spent benchmarking: 2.70 s\n"
      ]
     },
     "execution_count": 20,
     "metadata": {},
     "output_type": "execute_result"
    }
   ],
   "source": [
    "function string_zeros(s::AbstractString)\n",
    "    x = Array(s==\"Int64\"?Int64:Float64, 1_000_000)\n",
    "    for i in 1:length(x)\n",
    "        x[i] = 0 \n",
    "    end\n",
    "    return x \n",
    "end\n",
    "@benchmark string_zeros(\"Int64\")"
   ]
  },
  {
   "cell_type": "code",
   "execution_count": 21,
   "metadata": {},
   "outputs": [
    {
     "data": {
      "text/plain": [
       "================ Benchmark Results ========================\n",
       "     Time per evaluation: 3.05 ms [2.17 ms, 3.93 ms]\n",
       "Proportion of time in GC: 18.96% [2.56%, 35.37%]\n",
       "        Memory allocated: 7.63 mb\n",
       "   Number of allocations: 2 allocations\n",
       "       Number of samples: 100\n",
       "   Number of evaluations: 100\n",
       " Time spent benchmarking: 0.53 s\n"
      ]
     },
     "execution_count": 21,
     "metadata": {},
     "output_type": "execute_result"
    }
   ],
   "source": [
    "function string_zeros_fixed(s::AbstractString)\n",
    "    x = Array(s==\"Int64\"?Int64:Float64, 1_000_000)\n",
    "    return fill_zeros(x)\n",
    "end\n",
    "\n",
    "function fill_zeros(x)\n",
    "    for i in 1:length(x)\n",
    "        x[i] = 0 \n",
    "    end\n",
    "    return x \n",
    "end\n",
    "\n",
    "@benchmark string_zeros_fixed(\"Int64\")"
   ]
  },
  {
   "cell_type": "markdown",
   "metadata": {},
   "source": [
    "* Types at storage locations"
   ]
  },
  {
   "cell_type": "code",
   "execution_count": 1,
   "metadata": {},
   "outputs": [
    {
     "data": {
      "text/plain": [
       "arr_sumsqr (generic function with 1 method)"
      ]
     },
     "execution_count": 1,
     "metadata": {},
     "output_type": "execute_result"
    }
   ],
   "source": [
    "a = Int64[1, 2, 3, 4, 5, 6, 7, 8, 9, 10]\n",
    "\n",
    "b = Number[1, 2, 3, 4, 5, 6, 7, 8, 9, 10]\n",
    "\n",
    "function arr_sumsqr{T <: Number}(x::Array{T})\n",
    "    r = zero(0)\n",
    "    for i = 1 : length(x)\n",
    "        r = r + x[i]^2\n",
    "    end\n",
    "    return r\n",
    "end"
   ]
  },
  {
   "cell_type": "code",
   "execution_count": 3,
   "metadata": {},
   "outputs": [
    {
     "data": {
      "text/plain": [
       "================ Benchmark Results ========================\n",
       "     Time per evaluation: 33.08 ns [32.44 ns, 33.73 ns]\n",
       "Proportion of time in GC: 0.00% [0.00%, 0.00%]\n",
       "        Memory allocated: 0.00 bytes\n",
       "   Number of allocations: 0 allocations\n",
       "       Number of samples: 4901\n",
       "   Number of evaluations: 213901\n",
       "         R² of OLS model: 0.951\n",
       " Time spent benchmarking: 3.44 s\n"
      ]
     },
     "execution_count": 3,
     "metadata": {},
     "output_type": "execute_result"
    }
   ],
   "source": [
    "using Benchmarks\n",
    "@benchmark arr_sumsqr(a)"
   ]
  },
  {
   "cell_type": "code",
   "execution_count": 4,
   "metadata": {},
   "outputs": [
    {
     "data": {
      "text/plain": [
       "================ Benchmark Results ========================\n",
       "     Time per evaluation: 467.71 ns [458.91 ns, 476.51 ns]\n",
       "Proportion of time in GC: 0.00% [0.00%, 0.00%]\n",
       "        Memory allocated: 0.00 bytes\n",
       "   Number of allocations: 0 allocations\n",
       "       Number of samples: 5301\n",
       "   Number of evaluations: 313201\n",
       "         R² of OLS model: 0.950\n",
       " Time spent benchmarking: 3.96 s\n"
      ]
     },
     "execution_count": 4,
     "metadata": {},
     "output_type": "execute_result"
    }
   ],
   "source": [
    "# When the array is de ned to contain a speci c concrete type, \n",
    "# the Julia runtime can store the values inline within the allocation of the array \n",
    "# since it knows the exact size of each element. \n",
    "# When the array can contain an abstract type, the actual value can be of any size. \n",
    "# Thus, when the Julia runtime creates the array, \n",
    "# it only stores the pointers to the actual values within the array. \n",
    "# The values are stored elsewhere on the heap\n",
    "\n",
    "@benchmark arr_sumsqr(b)"
   ]
  },
  {
   "cell_type": "markdown",
   "metadata": {},
   "source": [
    "-------------------------------\n",
    "4 **Functions and Macros**\n",
    "\n",
    "> Functions in Julia are **first class** entities\n",
    "\n",
    "* Using globals\n",
    "\n",
    "> bad programming practice\n",
    "\n",
    "> The compiler cannot keep track of all writes to global variables; this would be akin to solving the **halting problem**. Therefore, the dataflow technique fails to perform any inference for these types of global variables"
   ]
  },
  {
   "cell_type": "code",
   "execution_count": 10,
   "metadata": {},
   "outputs": [
    {
     "data": {
      "text/plain": [
       "================ Benchmark Results ========================\n",
       "     Time per evaluation: 9.03 ms [7.21 ms, 10.85 ms]\n",
       "Proportion of time in GC: 3.64% [0.00%, 8.44%]\n",
       "        Memory allocated: 4.58 mb\n",
       "   Number of allocations: 300000 allocations\n",
       "       Number of samples: 100\n",
       "   Number of evaluations: 100\n",
       " Time spent benchmarking: 1.30 s\n"
      ]
     },
     "execution_count": 10,
     "metadata": {},
     "output_type": "execute_result"
    }
   ],
   "source": [
    "# global variable\n",
    "p = 2\n",
    "\n",
    "function pow_array(x::Vector{Float64})\n",
    "    s = 0.0\n",
    "    for y in x\n",
    "        s = s + y ^ p\n",
    "    end\n",
    "    return s\n",
    "end\n",
    "\n",
    "t = rand(100_000)\n",
    "@benchmark pow_array(t)"
   ]
  },
  {
   "cell_type": "code",
   "execution_count": 11,
   "metadata": {},
   "outputs": [
    {
     "name": "stdout",
     "output_type": "stream",
     "text": [
      "Variables:\n",
      "  #self#::#pow_array\n",
      "  x::Array{Float64,1}\n",
      "  s\u001b[1m\u001b[31m::Any\u001b[0m\n",
      "  #temp#::Int64\n",
      "  y::Float64\n",
      "\n",
      "Body:\n",
      "  begin \n",
      "      s\u001b[1m\u001b[31m::Any\u001b[0m = 0.0 # line 6:\n",
      "      #temp#::Int64 = $(QuoteNode(1))\n",
      "      4: \n",
      "      unless (Base.box)(Base.Bool,(Base.not_int)((#temp#::Int64 === (Base.box)(Int64,(Base.add_int)((Base.arraylen)(x::Array{Float64,1})::Int64,1)))::Bool)) goto 14\n",
      "      SSAValue(2) = (Base.arrayref)(x::Array{Float64,1},#temp#::Int64)::Float64\n",
      "      SSAValue(3) = (Base.box)(Int64,(Base.add_int)(#temp#::Int64,1))\n",
      "      y::Float64 = SSAValue(2)\n",
      "      #temp#::Int64 = SSAValue(3) # line 7:\n",
      "      s\u001b[1m\u001b[31m::Any\u001b[0m = (s\u001b[1m\u001b[31m::Any\u001b[0m + (y::Float64 ^ Main.p)\u001b[1m\u001b[31m::Any\u001b[0m)\u001b[1m\u001b[31m::Any\u001b[0m\n",
      "      12: \n",
      "      goto 4\n",
      "      14:  # line 9:\n",
      "      return s\u001b[1m\u001b[31m::Any\u001b[0m\n",
      "  end\u001b[1m\u001b[31m::Any\u001b[0m\n"
     ]
    }
   ],
   "source": [
    "@code_warntype pow_array(t)"
   ]
  },
  {
   "cell_type": "code",
   "execution_count": 12,
   "metadata": {},
   "outputs": [
    {
     "data": {
      "text/plain": [
       "================ Benchmark Results ========================\n",
       "     Time per evaluation: 105.63 μs [102.26 μs, 109.01 μs]\n",
       "Proportion of time in GC: 0.00% [0.00%, 0.00%]\n",
       "        Memory allocated: 0.00 bytes\n",
       "   Number of allocations: 0 allocations\n",
       "       Number of samples: 100\n",
       "   Number of evaluations: 100\n",
       " Time spent benchmarking: 0.26 s\n"
      ]
     },
     "execution_count": 12,
     "metadata": {},
     "output_type": "execute_result"
    }
   ],
   "source": [
    "# get back performance\n",
    "# or pass the global as a function argument\n",
    "const p2 = 2\n",
    "\n",
    "function pow_array2(x::Vector{Float64})\n",
    "    s = 0.0\n",
    "    for y in x\n",
    "        s = s + y ^ p2\n",
    "    end\n",
    "    return s\n",
    "end\n",
    "\n",
    "t = rand(100_000)\n",
    "@benchmark pow_array2(t)"
   ]
  },
  {
   "cell_type": "code",
   "execution_count": 14,
   "metadata": {
    "scrolled": true
   },
   "outputs": [
    {
     "name": "stdout",
     "output_type": "stream",
     "text": [
      "Variables:\n",
      "  #self#::#pow_array2\n",
      "  x::Array{Float64,1}\n",
      "  s::Float64\n",
      "  #temp#::Int64\n",
      "  y::Float64\n",
      "\n",
      "Body:\n",
      "  begin \n",
      "      s::Float64 = 0.0 # line 6:\n",
      "      #temp#::Int64 = $(QuoteNode(1))\n",
      "      4: \n",
      "      unless (Base.box)(Base.Bool,(Base.not_int)((#temp#::Int64 === (Base.box)(Int64,(Base.add_int)((Base.arraylen)(x::Array{Float64,1})::Int64,1)))::Bool)) goto 14\n",
      "      SSAValue(2) = (Base.arrayref)(x::Array{Float64,1},#temp#::Int64)::Float64\n",
      "      SSAValue(3) = (Base.box)(Int64,(Base.add_int)(#temp#::Int64,1))\n",
      "      y::Float64 = SSAValue(2)\n",
      "      #temp#::Int64 = SSAValue(3) # line 7:\n",
      "      s::Float64 = (Base.box)(Base.Float64,(Base.add_float)(s::Float64,(Base.Math.box)(Base.Math.Float64,(Base.Math.powi_llvm)(y::Float64,(Base.box)(Int32,(Base.checked_trunc_sint)(Int32,Main.p2))))::Float64))\n",
      "      12: \n",
      "      goto 4\n",
      "      14:  # line 9:\n",
      "      return s::Float64\n",
      "  end::Float64\n"
     ]
    }
   ],
   "source": [
    "@code_warntype pow_array2(t)"
   ]
  },
  {
   "cell_type": "markdown",
   "metadata": {},
   "source": [
    "* Inlining\n",
    "\n",
    "> Inlining is an optimization performed by a compiler, where the contents of a function or method is inserted directly into the body of the **caller** of that function\n",
    "\n",
    "> Julia uses the LLVM compiler to generate **machine code**, which is finally run on the CPU. Most of the usual **compiler optimization techniques** that run on Julia code are performed by LLVM. The one major exception is inlining, which is performed by the Julia compiler itself before LLVM is invoked\n",
    "\n",
    "> While inlining usually results in an increase in code speed, it also simultaneously increases the size of the code\n",
    "\n",
    ">Disable inlining **-inline=no**: during **complex debugging sessions** / while running **code coverage analysis** "
   ]
  },
  {
   "cell_type": "code",
   "execution_count": 15,
   "metadata": {},
   "outputs": [
    {
     "data": {
      "text/plain": [
       "LambdaInfo for sqrt_sin(::Int64)\n",
       ":(begin \n",
       "        # meta: location In[15] Trunc 1\n",
       "        unless (Base.slt_int)(x,0)::Bool goto 5\n",
       "        #temp# = 0\n",
       "        goto 7\n",
       "        5: \n",
       "        #temp# = x\n",
       "        7: \n",
       "        # meta: pop location\n",
       "        y = #temp# # line 5:\n",
       "        return $(Expr(:invoke, LambdaInfo for sin(::Float64), :(Main.sin), :((Base.box)(Base.Float64,(Base.add_float)((Base.Math.box)(Base.Math.Float64,(Base.Math.sqrt_llvm)((Base.box)(Float64,(Base.sitofp)(Float64,y))))::Float64,(Base.box)(Float64,(Base.sitofp)(Float64,1)))))))\n",
       "    end::Float64)"
      ]
     },
     "execution_count": 15,
     "metadata": {},
     "output_type": "execute_result"
    }
   ],
   "source": [
    "Trunc(x) = x<0 ? zero(x) : x\n",
    "\n",
    "function sqrt_sin(x)\n",
    "    y = Trunc(x)\n",
    "    return sin(sqrt(y) + 1)\n",
    "end\n",
    "\n",
    "# processed AST after the compiler has run its type inference and inlining passes\n",
    "@code_typed sqrt_sin(1)"
   ]
  },
  {
   "cell_type": "code",
   "execution_count": 19,
   "metadata": {},
   "outputs": [
    {
     "name": "stderr",
     "output_type": "stream",
     "text": [
      "WARNING: Method definition f_inline(Any) in module Main at In[18]:2 overwritten at In[19]:2.\n",
      "WARNING: Method definition g_inline(Any) in module Main at In[18]:8 overwritten at In[19]:8.\n"
     ]
    },
    {
     "data": {
      "text/plain": [
       "LambdaInfo for g_inline(::Int64)\n",
       ":(begin \n",
       "        # meta: location In[19] f_inline 2\n",
       "        a = (Base.box)(Int64,(Base.mul_int)((Base.box)(Int64,(Base.mul_int)(2,x)),5)) # line 3:\n",
       "        b = (Base.box)(Int64,(Base.add_int)(a,3)) # line 4:\n",
       "        c = (Base.box)(Int64,(Base.sub_int)(a,4)) # line 5:\n",
       "        SSAValue(0) = (Base.box)(Base.Float64,(Base.div_float)((Base.box)(Float64,(Base.sitofp)(Float64,b)),(Base.box)(Float64,(Base.sitofp)(Float64,c))))\n",
       "        d = SSAValue(0)\n",
       "        # meta: pop location\n",
       "        return SSAValue(0)\n",
       "    end::Float64)"
      ]
     },
     "execution_count": 19,
     "metadata": {},
     "output_type": "execute_result"
    }
   ],
   "source": [
    "@inline function f_inline(x)\n",
    "    a = x * 5\n",
    "    b = a + 3\n",
    "    c = a - 4\n",
    "    d = b / c\n",
    "end\n",
    "\n",
    "g_inline(x) = f_inline(2 * x)\n",
    "\n",
    "@code_typed g_inline(3)"
   ]
  },
  {
   "cell_type": "code",
   "execution_count": 20,
   "metadata": {},
   "outputs": [
    {
     "name": "stdout",
     "output_type": "stream",
     "text": [
      "\n",
      "define double @julia_g_inline_71806(i64) #0 {\n",
      "top:\n",
      "  %1 = mul i64 %0, 10\n",
      "  %2 = add i64 %1, 3\n",
      "  %3 = add i64 %1, -4\n",
      "  %4 = sitofp i64 %2 to double\n",
      "  %5 = sitofp i64 %3 to double\n",
      "  %6 = fdiv double %4, %5\n",
      "  ret double %6\n",
      "}\n"
     ]
    }
   ],
   "source": [
    "@code_llvm g_inline(3)"
   ]
  },
  {
   "cell_type": "markdown",
   "metadata": {},
   "source": [
    "* Closures and anonymous functions\n",
    "\n",
    "> In Julia, anonymous functions are created with the **->** operator separating the arguments from the function body. These and named functions created within the scope of another function, and referring to variables from this outer scope, are called closures"
   ]
  },
  {
   "cell_type": "code",
   "execution_count": 21,
   "metadata": {},
   "outputs": [
    {
     "data": {
      "text/plain": [
       "================ Benchmark Results ========================\n",
       "     Time per evaluation: 511.97 μs [202.79 μs, 821.15 μs]\n",
       "Proportion of time in GC: 2.41% [0.00%, 10.69%]\n",
       "        Memory allocated: 781.36 kb\n",
       "   Number of allocations: 4 allocations\n",
       "       Number of samples: 100\n",
       "   Number of evaluations: 100\n",
       " Time spent benchmarking: 0.33 s\n"
      ]
     },
     "execution_count": 21,
     "metadata": {},
     "output_type": "execute_result"
    }
   ],
   "source": [
    "sqr(x) = x ^ 2\n",
    "# named function\n",
    "@benchmark map(sqr, rand(100_000))"
   ]
  },
  {
   "cell_type": "code",
   "execution_count": 23,
   "metadata": {},
   "outputs": [
    {
     "data": {
      "text/plain": [
       "================ Benchmark Results ========================\n",
       "     Time per evaluation: 389.48 μs [121.01 μs, 657.95 μs]\n",
       "Proportion of time in GC: 2.29% [0.00%, 10.15%]\n",
       "        Memory allocated: 781.36 kb\n",
       "   Number of allocations: 4 allocations\n",
       "       Number of samples: 100\n",
       "   Number of evaluations: 100\n",
       " Time spent benchmarking: 0.31 s\n"
      ]
     },
     "execution_count": 23,
     "metadata": {},
     "output_type": "execute_result"
    }
   ],
   "source": [
    "# anonymous function\n",
    "# Before v0.5, using a named function is about twice as fast as using an anonymous function\n",
    "\n",
    "@benchmark map(x -> x ^ 2,rand(100_000))"
   ]
  },
  {
   "cell_type": "markdown",
   "metadata": {},
   "source": [
    "* Using macros for performance\n",
    "\n",
    "> As the compiler goes through each stage, it can write code to execute at various points along this pipeline rather than everything waiting until the end -- the runtime\n",
    "\n",
    "> Raw source -> Parse -> Macro Expansion **macroexpand()** -> lowering **@code_lowered** -> Type Inference \n",
    " -> Inlining -> Generated Function Expansion **code_typed** -> CodeGen **@code_llvm** -> Native Compilation **@code_native** -> Run\n",
    "\n",
    "> The **peakflops()** Julia function will return the maximum number of floating point operations per second (**flops**) possible on the current processor."
   ]
  },
  {
   "cell_type": "markdown",
   "metadata": {},
   "source": [
    "> Example\n",
    "\n",
    "$$p(x) = \\sum_{i=0}^n a_i x^i = a_0 + a_1 x + a_2 x^2 + \\dots + a_n x^n$$"
   ]
  },
  {
   "cell_type": "code",
   "execution_count": 26,
   "metadata": {},
   "outputs": [
    {
     "name": "stderr",
     "output_type": "stream",
     "text": [
      "WARNING: Method definition poly_naive(Any, Any...) in module Main at In[25]:3 overwritten at In[26]:3.\n",
      "WARNING: Method definition f_naive(Any) in module Main at In[25]:11 overwritten at In[26]:11.\n"
     ]
    },
    {
     "data": {
      "text/plain": [
       "================ Benchmark Results ========================\n",
       "     Time per evaluation: 54.23 ns [53.19 ns, 55.28 ns]\n",
       "Proportion of time in GC: 0.15% [0.00%, 0.33%]\n",
       "        Memory allocated: 32.00 bytes\n",
       "   Number of allocations: 2 allocations\n",
       "       Number of samples: 10201\n",
       "   Number of evaluations: 33352001\n",
       "         R² of OLS model: 0.904\n",
       " Time spent benchmarking: 10.05 s\n"
      ]
     },
     "execution_count": 26,
     "metadata": {},
     "output_type": "execute_result"
    }
   ],
   "source": [
    "function poly_naive(x,a...)\n",
    "    # type-stable\n",
    "    p = zero(x)\n",
    "    \n",
    "    for i = 1:length(a)\n",
    "        p = p + a[i] * x ^ (i - 1)\n",
    "    end\n",
    "    return p\n",
    "end\n",
    "\n",
    "f_naive(x) = poly_naive(x, 1, 2, 3, 4, 5)\n",
    "f_naive(3.5)\n",
    "\n",
    "@benchmark f_naive(3.5)"
   ]
  },
  {
   "cell_type": "markdown",
   "metadata": {},
   "source": [
    "> floating-point exponentiation is a particularly expensive operation\n",
    "\n",
    "> Horner method, named after 19th century British mathematician **William George Horner**, can replace the exponentiation into multiplications\n",
    "\n",
    "$$b_n = a_n$$\n",
    "$$b_{n-1} = a_{n-1} + b_n x$$\n",
    "$$b_{n-2} = a_{n-2} + b_{n-1} x$$\n",
    "$$\\vdots$$\n",
    "$$b_0 = a_0 + b_1 x = p(x)$$"
   ]
  },
  {
   "cell_type": "code",
   "execution_count": 28,
   "metadata": {},
   "outputs": [
    {
     "name": "stderr",
     "output_type": "stream",
     "text": [
      "WARNING: Method definition poly_horner(Any, Any...) in module Main at In[27]:2 overwritten at In[28]:2.\n",
      "WARNING: Method definition f_horner(Any) in module Main at In[27]:9 overwritten at In[28]:9.\n"
     ]
    },
    {
     "data": {
      "text/plain": [
       "================ Benchmark Results ========================\n",
       "     Time per evaluation: 45.18 ns [44.32 ns, 46.04 ns]\n",
       "Proportion of time in GC: 0.00% [0.00%, 0.00%]\n",
       "        Memory allocated: 32.00 bytes\n",
       "   Number of allocations: 2 allocations\n",
       "       Number of samples: 4701\n",
       "   Number of evaluations: 176701\n",
       "         R² of OLS model: 0.955\n",
       " Time spent benchmarking: 3.96 s\n"
      ]
     },
     "execution_count": 28,
     "metadata": {},
     "output_type": "execute_result"
    }
   ],
   "source": [
    "function poly_horner(x, a...)\n",
    "    b = zero(x)\n",
    "    for i = length(a):-1:1\n",
    "        b = a[i] + b * x\n",
    "    end\n",
    "    return b\n",
    "end\n",
    "\n",
    "f_horner(x) = poly_horner(x, 1, 2, 3, 4, 5)\n",
    "f_horner(3.5)\n",
    "\n",
    "@benchmark f_horner(3.5)"
   ]
  },
  {
   "cell_type": "code",
   "execution_count": 33,
   "metadata": {},
   "outputs": [
    {
     "name": "stderr",
     "output_type": "stream",
     "text": [
      "WARNING: Method definition f_fast(Any) in module Main at In[32]:3 overwritten at In[33]:3.\n"
     ]
    },
    {
     "data": {
      "text/plain": [
       "================ Benchmark Results ========================\n",
       "     Time per evaluation: 2.91 ns [2.87 ns, 2.95 ns]\n",
       "Proportion of time in GC: 0.00% [0.00%, 0.00%]\n",
       "        Memory allocated: 0.00 bytes\n",
       "   Number of allocations: 0 allocations\n",
       "       Number of samples: 8901\n",
       "   Number of evaluations: 9662201\n",
       "         R² of OLS model: 0.957\n",
       " Time spent benchmarking: 6.66 s\n"
      ]
     },
     "execution_count": 33,
     "metadata": {},
     "output_type": "execute_result"
    }
   ],
   "source": [
    "# faster method\n",
    "# Improving the speed of this computation starts with realizing that the coef cients of the polynomial are constants\n",
    "f_fast(x) = muladd(x,muladd(x,muladd(x,muladd(x,5,4),3),2),1)\n",
    "f_fast(3.5)\n",
    "\n",
    "@benchmark f_fast(3.5)"
   ]
  },
  {
   "cell_type": "code",
   "execution_count": 35,
   "metadata": {},
   "outputs": [
    {
     "name": "stderr",
     "output_type": "stream",
     "text": [
      "WARNING: Method definition @horner(ANY<:Any, Any...) in module Main at In[34]:3 overwritten at In[35]:3.\n",
      "WARNING: Method definition f_horner_macro(Any) in module Main at In[34]:10 overwritten at In[35]:10.\n"
     ]
    },
    {
     "data": {
      "text/plain": [
       "================ Benchmark Results ========================\n",
       "     Time per evaluation: 3.01 ns [2.97 ns, 3.05 ns]\n",
       "Proportion of time in GC: 0.00% [0.00%, 0.00%]\n",
       "        Memory allocated: 0.00 bytes\n",
       "   Number of allocations: 0 allocations\n",
       "       Number of samples: 10901\n",
       "   Number of evaluations: 64991201\n",
       "         R² of OLS model: 0.951\n",
       " Time spent benchmarking: 8.40 s\n"
      ]
     },
     "execution_count": 35,
     "metadata": {},
     "output_type": "execute_result"
    }
   ],
   "source": [
    "# Metaprogramming\n",
    "\n",
    "# macro that will produce the previous expression when given a set of polynomial coef cients\n",
    "macro horner(x, p...)\n",
    "    # esc is only valid in the context of an Expr returned from a macro. Prevents the\n",
    "    # macro hygiene pass from turning embedded variables into gensym variables\n",
    "    ex = esc(p[end])\n",
    "    \n",
    "    for i = length(p)-1:-1:1\n",
    "        ex = :(muladd(t, $ex, $(esc(p[i]))))\n",
    "    end\n",
    "    # Expr(head::Symbol, args::Array{Any,1}, typ::Any)\n",
    "    Expr(:block, :(t = $(esc(x))), ex)\n",
    "end\n",
    "\n",
    "f_horner_macro(x) = @horner(x, 1, 2, 3, 4, 5)\n",
    "f_horner_macro(3.5)\n",
    "\n",
    "@benchmark f_horner_macro(3.5)"
   ]
  },
  {
   "cell_type": "markdown",
   "metadata": {},
   "source": [
    "* Using generated functions"
   ]
  },
  {
   "cell_type": "code",
   "execution_count": 36,
   "metadata": {},
   "outputs": [
    {
     "data": {
      "text/plain": [
       "250"
      ]
     },
     "execution_count": 36,
     "metadata": {},
     "output_type": "execute_result"
    }
   ],
   "source": [
    "# calculate the number of cells of a multidimensional array\n",
    "function prod_dim{T, N}(x::Array{T,N})\n",
    "    s = 1\n",
    "    for i = 1:N\n",
    "        s = s * size(x, i)\n",
    "    end\n",
    "    return s\n",
    "end\n",
    "\n",
    "prod_dim(rand(10, 5, 5))"
   ]
  },
  {
   "cell_type": "code",
   "execution_count": 37,
   "metadata": {},
   "outputs": [
    {
     "data": {
      "text/plain": [
       "250"
      ]
     },
     "execution_count": 37,
     "metadata": {},
     "output_type": "execute_result"
    }
   ],
   "source": [
    "# the number of iterations of the loop is equal to the number of dimensions of the array,\n",
    "# which is encoded as a type parameter for arrays\n",
    "@generated function prod_dim_gen{T, N}(x::Array{T,N})\n",
    "    ex = :(1)\n",
    "    for i = 1:N\n",
    "        ex = :(size(x, $i) * $ex)\n",
    "    end\n",
    "    return ex\n",
    "end\n",
    "\n",
    "prod_dim_gen(rand(10, 5, 5))"
   ]
  },
  {
   "cell_type": "markdown",
   "metadata": {},
   "source": [
    "* Using named parameters\n",
    "\n",
    "> using named parameters can cause degraded performance\n",
    "\n",
    "> when designing high-level functions, it is still advantageous to use named parameters \n",
    "in order to create easy to use API's. Just don't use them in performance-sensitive inner loops\n",
    "\n",
    "> the **Benchmarks** package does not support named arguments"
   ]
  },
  {
   "cell_type": "code",
   "execution_count": 38,
   "metadata": {},
   "outputs": [
    {
     "name": "stdout",
     "output_type": "stream",
     "text": [
      "  0.021600 seconds (100.00 k allocations: 10.681 MB)\n"
     ]
    }
   ],
   "source": [
    "# named arguments\n",
    "named_param(x; y = 1, z = 1) = x^y + x^z\n",
    "# regular, positional arguments\n",
    "pos_param(x, y, z) = x^y + x^z\n",
    "\n",
    "@time for i in 1:100_000; named_param(4;y = 2, z = 3); end"
   ]
  },
  {
   "cell_type": "code",
   "execution_count": 39,
   "metadata": {},
   "outputs": [
    {
     "name": "stdout",
     "output_type": "stream",
     "text": [
      "  0.000880 seconds\n"
     ]
    }
   ],
   "source": [
    "@time for i in 1:100_000; pos_param(4, 2, 3); end"
   ]
  },
  {
   "cell_type": "markdown",
   "metadata": {},
   "source": [
    "-------------------------------\n",
    "5 **Fast Numbers**\n",
    "\n",
    "* Numbers in Julia\n",
    "\n",
    "> Integer: as a Julia value, basic numeric types can be **boxed**. That is, when stored in memory they are prefixed with a tag that represents their type"
   ]
  },
  {
   "cell_type": "code",
   "execution_count": 45,
   "metadata": {},
   "outputs": [
    {
     "name": "stderr",
     "output_type": "stream",
     "text": [
      "WARNING: Base.WORD_SIZE is deprecated.\n",
      "  likely near In[45]:1\n",
      "WARNING: Base.ASCIIString is deprecated, use String instead.\n",
      "  likely near In[45]:11\n"
     ]
    },
    {
     "data": {
      "text/plain": [
       "false"
      ]
     },
     "execution_count": 45,
     "metadata": {},
     "output_type": "execute_result"
    }
   ],
   "source": [
    "Base.WORD_SIZE\n",
    "\n",
    "# The Int type alias represents the actual integer type used by the system\n",
    "typeof(Int(2))\n",
    "\n",
    "# the default integer types are signed\n",
    "bits(3)\n",
    "bits(-3)\n",
    "\n",
    "isbits(Int64)\n",
    "isbits(ASCIIString)"
   ]
  },
  {
   "cell_type": "code",
   "execution_count": 46,
   "metadata": {},
   "outputs": [
    {
     "name": "stdout",
     "output_type": "stream",
     "text": [
      "\t.section\t__TEXT,__text,regular,pure_instructions\n",
      "Filename: In[46]\n",
      "\tpushq\t%rbp\n",
      "\tmovq\t%rsp, %rbp\n",
      "Source line: 1\n",
      "\tleaq\t(%rdi,%rsi), %rax\n",
      "\tpopq\t%rbp\n",
      "\tretq\n",
      "\tnopw\t(%rax,%rax)\n"
     ]
    }
   ],
   "source": [
    "myadd(x, y) = x + y\n",
    "\n",
    "@code_native myadd(1, 2)"
   ]
  },
  {
   "cell_type": "code",
   "execution_count": 49,
   "metadata": {},
   "outputs": [
    {
     "data": {
      "text/plain": [
       "\"1000000000000000000000000000000000000000000000000000000000000000\""
      ]
     },
     "execution_count": 49,
     "metadata": {},
     "output_type": "execute_result"
    }
   ],
   "source": [
    "typemax(Int64)\n",
    "typemin(Int64)\n",
    "\n",
    "bits(typemax(Int64))\n",
    "bits(typemin(Int64))"
   ]
  },
  {
   "cell_type": "code",
   "execution_count": 59,
   "metadata": {},
   "outputs": [
    {
     "data": {
      "text/plain": [
       "18446744073709551616"
      ]
     },
     "execution_count": 59,
     "metadata": {},
     "output_type": "execute_result"
    }
   ],
   "source": [
    "2 ^ 63 - 1\n",
    "2 ^ 63\n",
    "2 ^ 64\n",
    "\n",
    "# Operations on Int128 are slower, and for BigInts they are much slower than for the default integers\n",
    "big(9223372036854775807) + 1\n",
    "big(2) ^ 64"
   ]
  },
  {
   "cell_type": "markdown",
   "metadata": {},
   "source": [
    "> Floating points: The **IEEE 754 standard** is the universally accepted technical standard for floating point operations in computer hardware and software; The binary storage standard for 64-bit floating point numbers consists of 1 sign bit, 11 bits of exponent, and 52 bits of the mantissa (or the significand)"
   ]
  },
  {
   "cell_type": "code",
   "execution_count": 61,
   "metadata": {},
   "outputs": [
    {
     "data": {
      "text/plain": [
       "\"1100000000000100000000000000000000000000000000000000000000000000\""
      ]
     },
     "execution_count": 61,
     "metadata": {},
     "output_type": "execute_result"
    }
   ],
   "source": [
    "bits(2.5)\n",
    "bits(-2.5)"
   ]
  },
  {
   "cell_type": "markdown",
   "metadata": {},
   "source": [
    "> Unchecked conversion"
   ]
  },
  {
   "cell_type": "code",
   "execution_count": 68,
   "metadata": {},
   "outputs": [
    {
     "ename": "LoadError",
     "evalue": "InexactError()",
     "output_type": "error",
     "traceback": [
      "InexactError()",
      "",
      " in UInt32(::UInt64) at ./sysimg.jl:53",
      " in UInt32(::UInt64) at /Applications/Julia-0.5.app/Contents/Resources/julia/lib/julia/sys.dylib:?"
     ]
    }
   ],
   "source": [
    "UInt64(UInt32(1))\n",
    "UInt32(UInt64(1))\n",
    "\n",
    "# UInt32(typemax(UInt64))\n",
    "\n",
    "# when working with binary data, it may be acceptable to truncate 64-bit values to 32-bit values without checking\n",
    "typemax(UInt64) % UInt32"
   ]
  },
  {
   "cell_type": "markdown",
   "metadata": {},
   "source": [
    "* Trading performance for accuracy\n",
    "\n",
    "> **@fastmath**: loosen the constraints of IEEE floating point operations in order to achieve greater performance. This option is similar to the **-ffast-math** compiler option in clang or GCC"
   ]
  },
  {
   "cell_type": "code",
   "execution_count": 71,
   "metadata": {},
   "outputs": [
    {
     "name": "stderr",
     "output_type": "stream",
     "text": [
      "WARNING: Method definition sum_diff(Any) in module Main at In[70]:2 overwritten at In[71]:2.\n"
     ]
    },
    {
     "data": {
      "text/plain": [
       "================ Benchmark Results ========================\n",
       "     Time per evaluation: 285.88 μs [273.88 μs, 297.89 μs]\n",
       "Proportion of time in GC: 0.00% [0.00%, 0.00%]\n",
       "        Memory allocated: 0.00 bytes\n",
       "   Number of allocations: 0 allocations\n",
       "       Number of samples: 100\n",
       "   Number of evaluations: 100\n",
       " Time spent benchmarking: 0.28 s\n"
      ]
     },
     "execution_count": 71,
     "metadata": {},
     "output_type": "execute_result"
    }
   ],
   "source": [
    "function sum_diff(x)\n",
    "    n = length(x)\n",
    "    d = 1 / (n - 1)\n",
    "    s = zero(eltype(x))\n",
    "    s = s + (x[2] - x[1]) / d\n",
    "    \n",
    "    for i = 2 : length(x) - 1\n",
    "        s = s + (x[i+1] - x[i+1]) / (2 * d)\n",
    "    end\n",
    "    \n",
    "    s = s + (x[n] - x[n-1]) / d\n",
    "end\n",
    "\n",
    "t= rand(100_000)\n",
    "sum_diff(t)\n",
    "@benchmark sum_diff(t)"
   ]
  },
  {
   "cell_type": "code",
   "execution_count": 72,
   "metadata": {},
   "outputs": [
    {
     "data": {
      "text/plain": [
       "================ Benchmark Results ========================\n",
       "     Time per evaluation: 35.27 μs [34.56 μs, 35.98 μs]\n",
       "Proportion of time in GC: 0.00% [0.00%, 0.00%]\n",
       "        Memory allocated: 0.00 bytes\n",
       "   Number of allocations: 0 allocations\n",
       "       Number of samples: 100\n",
       "   Number of evaluations: 100\n",
       " Time spent benchmarking: 0.30 s\n"
      ]
     },
     "execution_count": 72,
     "metadata": {},
     "output_type": "execute_result"
    }
   ],
   "source": [
    "function sum_diff_fast(x)\n",
    "    n = length(x)\n",
    "    d = 1 / (n - 1)\n",
    "    s = zero(eltype(x))\n",
    "    @fastmath s = s + (x[2] - x[1]) / d\n",
    "    \n",
    "    @fastmath for i = 2 : length(x) - 1\n",
    "        s = s + (x[i+1] - x[i+1]) / (2 * d)\n",
    "    end\n",
    "    \n",
    "    @fastmath s = s + (x[n] - x[n-1]) / d\n",
    "end\n",
    "\n",
    "sum_diff_fast(t)\n",
    "@benchmark sum_diff_fast(t)"
   ]
  },
  {
   "cell_type": "code",
   "execution_count": 73,
   "metadata": {},
   "outputs": [
    {
     "name": "stderr",
     "output_type": "stream",
     "text": [
      "WARNING: Method definition sum_diff_fast(Any) in module Main at In[72]:2 overwritten at In[73]:2.\n"
     ]
    },
    {
     "data": {
      "text/plain": [
       "================ Benchmark Results ========================\n",
       "     Time per evaluation: 115.85 μs [80.18 μs, 151.53 μs]\n",
       "Proportion of time in GC: 0.00% [0.00%, 0.00%]\n",
       "        Memory allocated: 15.47 kb\n",
       "   Number of allocations: 253 allocations\n",
       "       Number of samples: 100\n",
       "   Number of evaluations: 100\n",
       " Time spent benchmarking: 0.26 s\n"
      ]
     },
     "execution_count": 73,
     "metadata": {},
     "output_type": "execute_result"
    }
   ],
   "source": [
    "function sum_diff_fast(x)\n",
    "    n = length(x)\n",
    "    d = 1 / (n - 1)\n",
    "    s = zero(eltype(x))\n",
    "    @fastmath s = s + (x[2] - x[1]) / d\n",
    "    \n",
    "    # the macro rewrites the intrinsic functions with its own _fast versions\n",
    "    macroexpand(:(@fastmath for i = 2 : length(x) - 1\n",
    "        s = s + (x[i+1] - x[i+1]) / (2 * d)\n",
    "    end))\n",
    "    \n",
    "    @fastmath s = s + (x[n] - x[n-1]) / d\n",
    "end\n",
    "\n",
    "sum_diff_fast(t)\n",
    "@benchmark sum_diff_fast(t)"
   ]
  },
  {
   "cell_type": "markdown",
   "metadata": {},
   "source": [
    "> Adding a collection of floating point values: A naive implementation—that is, adding elements from the first to the last—accumulates errors at the rate of $\\mathcal{O}$($\\sqrt{n}$), where n is the number of elements being summed. Julia's **sum** base uses a pairwise summation algorithm that does better by accumulating errors at $\\mathcal{O}$( $\\sqrt{log(n)}$) but is almost as fast. However, there exists a more complicated summation algorithm attributed to **William Kahan** whose error is bound by $\\mathcal{O}$(1)"
   ]
  },
  {
   "cell_type": "code",
   "execution_count": 76,
   "metadata": {},
   "outputs": [
    {
     "data": {
      "text/plain": [
       "================ Benchmark Results ========================\n",
       "     Time per evaluation: 7.22 ns [7.12 ns, 7.31 ns]\n",
       "Proportion of time in GC: 0.00% [0.00%, 0.00%]\n",
       "        Memory allocated: 0.00 bytes\n",
       "   Number of allocations: 0 allocations\n",
       "       Number of samples: 9801\n",
       "   Number of evaluations: 22780601\n",
       "         R² of OLS model: 0.956\n",
       " Time spent benchmarking: 7.82 s\n"
      ]
     },
     "execution_count": 76,
     "metadata": {},
     "output_type": "execute_result"
    }
   ],
   "source": [
    "sum([1 1e-100 -1])\n",
    "\n",
    "# Kahan-Babuska-Neumaier compensated summation algorithm\n",
    "sum_kbn([1 1e-100 -1])\n",
    "\n",
    "@benchmark sum([1 1e-100 -1])"
   ]
  },
  {
   "cell_type": "code",
   "execution_count": 77,
   "metadata": {},
   "outputs": [
    {
     "data": {
      "text/plain": [
       "================ Benchmark Results ========================\n",
       "     Time per evaluation: 11.09 ns [10.90 ns, 11.28 ns]\n",
       "Proportion of time in GC: 0.00% [0.00%, 0.00%]\n",
       "        Memory allocated: 0.00 bytes\n",
       "   Number of allocations: 0 allocations\n",
       "       Number of samples: 5701\n",
       "   Number of evaluations: 458401\n",
       "         R² of OLS model: 0.955\n",
       " Time spent benchmarking: 4.51 s\n"
      ]
     },
     "execution_count": 77,
     "metadata": {},
     "output_type": "execute_result"
    }
   ],
   "source": [
    "@benchmark sum_kbn([1 1e-100 -1])"
   ]
  },
  {
   "cell_type": "markdown",
   "metadata": {},
   "source": [
    "* Subnormal numbers [Computer Science]\n",
    "\n",
    "> very small floating point values near zero. Formally, they are numbers smaller than those that can be represented without leading zeros in the significand (for example, normal numbers)"
   ]
  },
  {
   "cell_type": "code",
   "execution_count": 87,
   "metadata": {},
   "outputs": [
    {
     "data": {
      "text/plain": [
       "true"
      ]
     },
     "execution_count": 87,
     "metadata": {},
     "output_type": "execute_result"
    }
   ],
   "source": [
    "set_zero_subnormals(false)\n",
    "issubnormal(1.0)\n",
    "\n",
    "issubnormal(1.0e-308)\n",
    "\n",
    "3e-308 - 3.001e-308\n",
    "issubnormal(3e-308 - 3.001e-308)"
   ]
  },
  {
   "cell_type": "code",
   "execution_count": 88,
   "metadata": {},
   "outputs": [
    {
     "data": {
      "text/plain": [
       "true"
      ]
     },
     "execution_count": 88,
     "metadata": {},
     "output_type": "execute_result"
    }
   ],
   "source": [
    "set_zero_subnormals(true)\n",
    "\n",
    "3e-308 - 3.001e-308\n",
    "\n",
    "3e-308 == 3.001e-308\n",
    "\n",
    "get_zero_subnormals()"
   ]
  },
  {
   "cell_type": "code",
   "execution_count": 93,
   "metadata": {},
   "outputs": [
    {
     "name": "stderr",
     "output_type": "stream",
     "text": [
      "WARNING: Method definition timestep(Any, Any, Any) in module Main at In[91]:2 overwritten at In[93]:2.\n",
      "WARNING: Method definition heatflow(Any, Any) in module Main at In[91]:12 overwritten at In[93]:12.\n"
     ]
    },
    {
     "data": {
      "text/plain": [
       "================ Benchmark Results ========================\n",
       "     Time per evaluation: 18.65 ms [18.00 ms, 19.30 ms]\n",
       "Proportion of time in GC: 0.00% [0.00%, 0.00%]\n",
       "        Memory allocated: 78.20 kb\n",
       "   Number of allocations: 2 allocations\n",
       "       Number of samples: 100\n",
       "   Number of evaluations: 100\n",
       " Time spent benchmarking: 2.15 s\n"
      ]
     },
     "execution_count": 93,
     "metadata": {},
     "output_type": "execute_result"
    }
   ],
   "source": [
    "function timestep(b, a, dt)\n",
    "    n = length(b)\n",
    "    b[1] = 1\n",
    "    two = eltype(b)(2)\n",
    "    for i = 2:n-1\n",
    "        b[i] = a[i] + (a[i-1] - two * a[i] + a[i+1]) * dt\n",
    "    end\n",
    "    b[n] = 0 \n",
    "end\n",
    "   \n",
    "function heatflow(a, nstep)\n",
    "    b = similar(a)\n",
    "    o = eltype(a)(0.1)\n",
    "    for t=1:div(nstep,2)\n",
    "        timestep(b,a,o)\n",
    "        timestep(a,b,o)\n",
    "    end\n",
    "end\n",
    "\n",
    "a = rand(10000)\n",
    "set_zero_subnormals(false)\n",
    "@benchmark heatflow(a, 1000)"
   ]
  },
  {
   "cell_type": "code",
   "execution_count": 94,
   "metadata": {},
   "outputs": [
    {
     "data": {
      "text/plain": [
       "================ Benchmark Results ========================\n",
       "     Time per evaluation: 18.62 ms [17.56 ms, 19.68 ms]\n",
       "Proportion of time in GC: 0.00% [0.00%, 0.00%]\n",
       "        Memory allocated: 78.20 kb\n",
       "   Number of allocations: 2 allocations\n",
       "       Number of samples: 100\n",
       "   Number of evaluations: 100\n",
       " Time spent benchmarking: 2.13 s\n"
      ]
     },
     "execution_count": 94,
     "metadata": {},
     "output_type": "execute_result"
    }
   ],
   "source": [
    "set_zero_subnormals(true)\n",
    "@benchmark heatflow(a, 1000)"
   ]
  },
  {
   "cell_type": "markdown",
   "metadata": {},
   "source": [
    "-------------------------------\n",
    "6 **Fast Arrays**\n",
    "\n",
    "* Array internals and storage\n",
    "\n",
    "> **Single Instruction Multiple Data** (SIMD)\n",
    "\n",
    "> Column-wise storage: similar to **MATLAB** and **Fortran**. In Julia, the array is stored with the last dimension first."
   ]
  },
  {
   "cell_type": "code",
   "execution_count": 11,
   "metadata": {},
   "outputs": [
    {
     "name": "stderr",
     "output_type": "stream",
     "text": [
      "WARNING: Method definition col_iter(Any) in module Main at In[1]:2 overwritten at In[11]:2.\n",
      "WARNING: Method definition row_iter(Any) in module Main at In[1]:13 overwritten at In[11]:13.\n"
     ]
    },
    {
     "data": {
      "text/plain": [
       "row_iter (generic function with 1 method)"
      ]
     },
     "execution_count": 11,
     "metadata": {},
     "output_type": "execute_result"
    }
   ],
   "source": [
    "function col_iter(x)\n",
    "    s = zero(eltype(x))\n",
    "    for i = 1:size(x, 2)\n",
    "        for j = 1:size(x, 1)\n",
    "            s = s + x[j, i]^2\n",
    "            x[j, i] = s\n",
    "        end\n",
    "    end\n",
    "    return x\n",
    "end\n",
    "\n",
    "function row_iter(x)\n",
    "    s= zero(eltype(x))\n",
    "    for i = 1:size(x, 1)\n",
    "        for j = 1:size(x, 2)\n",
    "            s = s + x[i, j]^2\n",
    "            x[i, j] = s\n",
    "        end\n",
    "    end\n",
    "    return x\n",
    "end"
   ]
  },
  {
   "cell_type": "code",
   "execution_count": 13,
   "metadata": {},
   "outputs": [
    {
     "data": {
      "text/plain": [
       "================ Benchmark Results ========================\n",
       "     Time per evaluation: 1.36 ms [1.22 ms, 1.49 ms]\n",
       "Proportion of time in GC: 0.00% [0.00%, 0.00%]\n",
       "        Memory allocated: 0.00 bytes\n",
       "   Number of allocations: 0 allocations\n",
       "       Number of samples: 100\n",
       "   Number of evaluations: 100\n",
       " Time spent benchmarking: 0.36 s\n"
      ]
     },
     "execution_count": 13,
     "metadata": {},
     "output_type": "execute_result"
    }
   ],
   "source": [
    "a = rand(1000, 1000)\n",
    "using Benchmarks\n",
    "@benchmark col_iter(a)"
   ]
  },
  {
   "cell_type": "code",
   "execution_count": 14,
   "metadata": {},
   "outputs": [
    {
     "data": {
      "text/plain": [
       "================ Benchmark Results ========================\n",
       "     Time per evaluation: 3.80 ms [3.58 ms, 4.02 ms]\n",
       "Proportion of time in GC: 0.00% [0.00%, 0.00%]\n",
       "        Memory allocated: 0.00 bytes\n",
       "   Number of allocations: 0 allocations\n",
       "       Number of samples: 100\n",
       "   Number of evaluations: 100\n",
       " Time spent benchmarking: 0.63 s\n"
      ]
     },
     "execution_count": 14,
     "metadata": {},
     "output_type": "execute_result"
    }
   ],
   "source": [
    "@benchmark row_iter(a)"
   ]
  },
  {
   "cell_type": "markdown",
   "metadata": {},
   "source": [
    "* Bounds checking\n",
    "\n",
    "> While this cost is reasonably small and is usually a good trade-off for safety, in some situations, where it can be guaranteed that the array bounds are never crossed, it may be worthwhile to remove these checks\n",
    "\n",
    "> When the Julia environment is started with **–check-bounds=yes**, all @inbounds annotations in code are ignored, and bound checks are mandatorily performed\n",
    "\n",
    "> When the Julia runtime is started with **–check-bounds=no**, no bound checking is done at all. This is equivalent to annotating all array access with the @inbounds macro"
   ]
  },
  {
   "cell_type": "code",
   "execution_count": 22,
   "metadata": {},
   "outputs": [
    {
     "name": "stderr",
     "output_type": "stream",
     "text": [
      "WARNING: Method definition prefix_bounds(Any, Any) in module Main at In[21]:2 overwritten at In[22]:2.\n",
      "WARNING: Method definition prefix_inbounds(Any, Any) in module Main at In[21]:9 overwritten at In[22]:9.\n"
     ]
    },
    {
     "data": {
      "text/plain": [
       "================ Benchmark Results ========================\n",
       "     Time per evaluation: 14.09 ns [13.88 ns, 14.31 ns]\n",
       "Proportion of time in GC: 0.00% [0.00%, 0.00%]\n",
       "        Memory allocated: 0.00 bytes\n",
       "   Number of allocations: 0 allocations\n",
       "       Number of samples: 7901\n",
       "   Number of evaluations: 3726101\n",
       "         R² of OLS model: 0.951\n",
       " Time spent benchmarking: 5.84 s\n"
      ]
     },
     "execution_count": 22,
     "metadata": {},
     "output_type": "execute_result"
    }
   ],
   "source": [
    "function prefix_bounds(a, b)\n",
    "    for i = 2:size(a, 1)\n",
    "        a[i] = b[i-1] + b[i]\n",
    "    end\n",
    "    return a\n",
    "end\n",
    "\n",
    "function prefix_inbounds(a, b)\n",
    "    @inbounds for i = 2:size(a, 1)\n",
    "        a[i] = b[i-1] + b[i]\n",
    "    end\n",
    "    return a\n",
    "end\n",
    "\n",
    "x = ones(10)\n",
    "y = rand(10)\n",
    "\n",
    "@benchmark prefix_bounds(x, y)"
   ]
  },
  {
   "cell_type": "code",
   "execution_count": 23,
   "metadata": {},
   "outputs": [
    {
     "data": {
      "text/plain": [
       "================ Benchmark Results ========================\n",
       "     Time per evaluation: 9.41 ns [9.28 ns, 9.54 ns]\n",
       "Proportion of time in GC: 0.00% [0.00%, 0.00%]\n",
       "        Memory allocated: 0.00 bytes\n",
       "   Number of allocations: 0 allocations\n",
       "       Number of samples: 9301\n",
       "   Number of evaluations: 14145701\n",
       "         R² of OLS model: 0.951\n",
       " Time spent benchmarking: 6.98 s\n"
      ]
     },
     "execution_count": 23,
     "metadata": {},
     "output_type": "execute_result"
    }
   ],
   "source": [
    "@benchmark prefix_inbounds(x, y)"
   ]
  },
  {
   "cell_type": "markdown",
   "metadata": {},
   "source": [
    "* Allocation and In-place operations\n",
    "\n",
    "> Garbage collection(GC)"
   ]
  },
  {
   "cell_type": "code",
   "execution_count": 27,
   "metadata": {},
   "outputs": [
    {
     "name": "stdout",
     "output_type": "stream",
     "text": [
      "  0.099535 seconds (5.00 M allocations: 167.839 MB, 12.46% gc time)\n"
     ]
    },
    {
     "name": "stderr",
     "output_type": "stream",
     "text": [
      "WARNING: Method definition xpow(Any) in module Main at In[24]:2 overwritten at In[27]:2.\n",
      "WARNING: Method definition xpow_loop(Any) in module Main at In[24]:6 overwritten at In[27]:6.\n"
     ]
    },
    {
     "data": {
      "text/plain": [
       "333333833333500000"
      ]
     },
     "execution_count": 27,
     "metadata": {},
     "output_type": "execute_result"
    }
   ],
   "source": [
    "function xpow(x)\n",
    "    return [x x^2 x^3 x^4]\n",
    "end\n",
    "\n",
    "function xpow_loop(n)\n",
    "    s = 0\n",
    "    for i = 1:n\n",
    "        s = s + xpow(i)[2]\n",
    "    end\n",
    "    return s\n",
    "end\n",
    "\n",
    "@benchmark xpow_loop(1000_000)\n",
    "\n",
    "@time xpow_loop(1000_000)"
   ]
  },
  {
   "cell_type": "code",
   "execution_count": 28,
   "metadata": {},
   "outputs": [
    {
     "name": "stdout",
     "output_type": "stream",
     "text": [
      "  0.013278 seconds (6 allocations: 288 bytes)\n"
     ]
    },
    {
     "name": "stderr",
     "output_type": "stream",
     "text": [
      "WARNING: Method definition xpow!(Array{Int64, 1}, Any) in module Main at In[26]:2 overwritten at In[28]:3.\n",
      "WARNING: Method definition xpow_loop_noalloc(Any) in module Main at In[26]:11 overwritten at In[28]:12.\n"
     ]
    },
    {
     "data": {
      "text/plain": [
       "333333833333500000"
      ]
     },
     "execution_count": 28,
     "metadata": {},
     "output_type": "execute_result"
    }
   ],
   "source": [
    "# The exclamation mark(!) denotes that this function takes an output variable that mutates as an argument.\n",
    "# makes an in-place operation\n",
    "function xpow!(result::Array{Int, 1}, x)\n",
    "    @assert length(result) == 4\n",
    "    result[1] = x\n",
    "    result[2] = x^2\n",
    "    result[3] = x^3\n",
    "    result[4] = x^4\n",
    "end\n",
    "\n",
    "# preallocate a single array to hold the result for each iteration\n",
    "function xpow_loop_noalloc(n)\n",
    "    r = [0, 0, 0, 0]\n",
    "    s = 0\n",
    "    for i = 1:n\n",
    "        xpow!(r, i)\n",
    "        s = s + r[2]\n",
    "    end\n",
    "    return s\n",
    "end\n",
    "\n",
    "@benchmark xpow_loop_noalloc(1000_000)\n",
    "\n",
    "@time xpow_loop_noalloc(1000_000)"
   ]
  },
  {
   "cell_type": "code",
   "execution_count": 29,
   "metadata": {},
   "outputs": [
    {
     "data": {
      "text/plain": [
       "================ Benchmark Results ========================\n",
       "     Time per evaluation: 84.00 ms [81.80 ms, 86.19 ms]\n",
       "Proportion of time in GC: 1.19% [0.16%, 2.22%]\n",
       "        Memory allocated: 7.63 mb\n",
       "   Number of allocations: 4 allocations\n",
       "       Number of samples: 100\n",
       "   Number of evaluations: 100\n",
       " Time spent benchmarking: 8.90 s\n"
      ]
     },
     "execution_count": 29,
     "metadata": {},
     "output_type": "execute_result"
    }
   ],
   "source": [
    "a = rand(1000_000)\n",
    "@benchmark sort(a)"
   ]
  },
  {
   "cell_type": "code",
   "execution_count": 30,
   "metadata": {},
   "outputs": [
    {
     "data": {
      "text/plain": [
       "================ Benchmark Results ========================\n",
       "     Time per evaluation: 15.78 ms [11.84 ms, 19.72 ms]\n",
       "Proportion of time in GC: 0.00% [0.00%, 0.00%]\n",
       "        Memory allocated: 0.00 bytes\n",
       "   Number of allocations: 0 allocations\n",
       "       Number of samples: 100\n",
       "   Number of evaluations: 100\n",
       " Time spent benchmarking: 1.94 s\n"
      ]
     },
     "execution_count": 30,
     "metadata": {},
     "output_type": "execute_result"
    }
   ],
   "source": [
    "@benchmark sort!(a)"
   ]
  },
  {
   "cell_type": "markdown",
   "metadata": {},
   "source": [
    "* Array Views\n",
    "\n",
    "> **sub()**: returns a new array that is actually a view into the original array. Creating a SubArray is very fast, much faster than creating a sliced copy. Accessing a **SubArray** can be slower than accessing a regular dense array, but Julia's standard library has some extremely well-tuned code for this purpose\n",
    "\n",
    "> In Julia v0.5, **view()** is used instead of sub() "
   ]
  },
  {
   "cell_type": "code",
   "execution_count": 34,
   "metadata": {},
   "outputs": [
    {
     "name": "stderr",
     "output_type": "stream",
     "text": [
      "WARNING: Method definition sum_vector(Array{Float64, 1}) in module Main at In[31]:2 overwritten at In[34]:2.\n",
      "WARNING: Method definition sum_cols_matrix(Array{Float64, 2}) in module Main at In[31]:11 overwritten at In[34]:11.\n"
     ]
    },
    {
     "data": {
      "text/plain": [
       "================ Benchmark Results ========================\n",
       "     Time per evaluation: 4.82 ms [3.53 ms, 6.12 ms]\n",
       "Proportion of time in GC: 14.01% [2.08%, 25.93%]\n",
       "        Memory allocated: 7.78 mb\n",
       "   Number of allocations: 2490 allocations\n",
       "       Number of samples: 100\n",
       "   Number of evaluations: 100\n",
       " Time spent benchmarking: 0.71 s\n"
      ]
     },
     "execution_count": 34,
     "metadata": {},
     "output_type": "execute_result"
    }
   ],
   "source": [
    "function sum_vector(x::Array{Float64, 1})\n",
    "    s = 0.0\n",
    "    for i = 1:length(x)\n",
    "        s = s + x[i]\n",
    "    end\n",
    "    return s\n",
    "end\n",
    "\n",
    "# in Julia, array slices create a copy of the slice\n",
    "function sum_cols_matrix(x::Array{Float64, 2})\n",
    "    num_cols = size(x, 2)\n",
    "    s = zeros(num_cols)\n",
    "    for i = 1:num_cols\n",
    "        s[i] = sum_vector(x[:, i])\n",
    "    end\n",
    "    return s\n",
    "end\n",
    "\n",
    "@benchmark sum_cols_matrix(rand(1000, 1000))"
   ]
  },
  {
   "cell_type": "code",
   "execution_count": 37,
   "metadata": {},
   "outputs": [
    {
     "name": "stderr",
     "output_type": "stream",
     "text": [
      "WARNING: Method definition sum_vector(AbstractArray) in module Main at In[36]:3 overwritten at In[37]:3.\n",
      "WARNING: Method definition sum_cols_matrix_views(Array{Float64, 2}) in module Main at In[36]:12 overwritten at In[37]:12.\n"
     ]
    },
    {
     "data": {
      "text/plain": [
       "================ Benchmark Results ========================\n",
       "     Time per evaluation: 1.85 ms [1.24 ms, 2.46 ms]\n",
       "Proportion of time in GC: 0.00% [0.00%, 0.00%]\n",
       "        Memory allocated: 70.44 kb\n",
       "   Number of allocations: 1001 allocations\n",
       "       Number of samples: 100\n",
       "   Number of evaluations: 100\n",
       " Time spent benchmarking: 0.40 s\n"
      ]
     },
     "execution_count": 37,
     "metadata": {},
     "output_type": "execute_result"
    }
   ],
   "source": [
    "# loosen the parameter type\n",
    "function sum_vector(x::AbstractArray)\n",
    "    s = 0.0\n",
    "    for i = 1:length(x)\n",
    "        s = s + x[i]\n",
    "    end\n",
    "    return s\n",
    "end\n",
    "\n",
    "# in Julia, array slices create a copy of the slice\n",
    "function sum_cols_matrix_views(x::Array{Float64, 2})\n",
    "    num_cols = size(x, 2)\n",
    "    num_rows = size(x, 1)\n",
    "    s = zeros(num_cols)\n",
    "    for i = 1:num_cols\n",
    "        s[i] = sum_vector(view(x, 1:num_rows, i))\n",
    "    end\n",
    "    return s\n",
    "end\n",
    "\n",
    "@benchmark sum_cols_matrix_views(rand(1000, 1000))"
   ]
  },
  {
   "cell_type": "markdown",
   "metadata": {},
   "source": [
    "* SIMD parallelization\n",
    "\n",
    "> A typical SIMD-enabled processor, however, can add maybe eight numbers in one CPU cycle\n",
    "\n",
    "> rewriting code to operate on parts of the array in parallel can get complex quickly"
   ]
  },
  {
   "cell_type": "code",
   "execution_count": 38,
   "metadata": {},
   "outputs": [
    {
     "data": {
      "text/plain": [
       "================ Benchmark Results ========================\n",
       "     Time per evaluation: 1.82 ms [1.27 ms, 2.38 ms]\n",
       "Proportion of time in GC: 0.00% [0.00%, 0.00%]\n",
       "        Memory allocated: 0.00 bytes\n",
       "   Number of allocations: 0 allocations\n",
       "       Number of samples: 100\n",
       "   Number of evaluations: 100\n",
       " Time spent benchmarking: 0.42 s\n"
      ]
     },
     "execution_count": 38,
     "metadata": {},
     "output_type": "execute_result"
    }
   ],
   "source": [
    "function sum_vector!(x, y, z)\n",
    "    n = length(x)\n",
    "    for i = 1:n\n",
    "        x[i] =y[i] + z[i]\n",
    "    end\n",
    "end\n",
    "\n",
    "# Bounds checking is disabled for SIMD loops (Bound checking can cause branches due to exceptional conditions.)\n",
    "function sum_vector_simd!(x, y, z)\n",
    "    n = length(x)\n",
    "    @inbounds @simd for i = 1:n\n",
    "        x[i] =y[i] + z[i]\n",
    "    end\n",
    "end\n",
    "\n",
    "@benchmark sum_vector!(zeros(Float32, 1000_000), rand(Float32, 1000_000), rand(Float32, 1000_000))"
   ]
  },
  {
   "cell_type": "code",
   "execution_count": 40,
   "metadata": {},
   "outputs": [
    {
     "data": {
      "text/plain": [
       "================ Benchmark Results ========================\n",
       "     Time per evaluation: 1.08 ms [1.01 ms, 1.15 ms]\n",
       "Proportion of time in GC: 0.00% [0.00%, 0.00%]\n",
       "        Memory allocated: 0.00 bytes\n",
       "   Number of allocations: 0 allocations\n",
       "       Number of samples: 100\n",
       "   Number of evaluations: 100\n",
       " Time spent benchmarking: 0.33 s\n"
      ]
     },
     "execution_count": 40,
     "metadata": {},
     "output_type": "execute_result"
    }
   ],
   "source": [
    "@benchmark sum_vector_simd!(zeros(Float32, 1000_000), rand(Float32, 1000_000), rand(Float32, 1000_000))"
   ]
  },
  {
   "cell_type": "markdown",
   "metadata": {},
   "source": [
    "> check whether the compiler successfully vectorized your code\n",
    "\n",
    "> the keywords to look for in the output are sections prefixed with vector and vectorized operations that look similar to <n $*$ float$>$\n",
    "\n",
    "> **performance gains** are indeed coming from an **automatic vectorization** of our sequential code"
   ]
  },
  {
   "cell_type": "code",
   "execution_count": 41,
   "metadata": {},
   "outputs": [
    {
     "name": "stdout",
     "output_type": "stream",
     "text": [
      "\n",
      "define void @\"julia_sum_vector_simd!_72109\"(%jl_value_t*, %jl_value_t*, %jl_value_t*) #0 {\n",
      "top:\n",
      "  %3 = getelementptr inbounds %jl_value_t, %jl_value_t* %0, i64 1\n",
      "  %4 = bitcast %jl_value_t* %3 to i64*\n",
      "  %5 = load i64, i64* %4, align 8\n",
      "  %6 = icmp sgt i64 %5, 0\n",
      "  %7 = select i1 %6, i64 %5, i64 0\n",
      "  %8 = call { i64, i1 } @llvm.ssub.with.overflow.i64(i64 %7, i64 1)\n",
      "  %9 = extractvalue { i64, i1 } %8, 1\n",
      "  br i1 %9, label %fail.split, label %top.top.split_crit_edge\n",
      "\n",
      "top.top.split_crit_edge:                          ; preds = %top\n",
      "  %10 = extractvalue { i64, i1 } %8, 0\n",
      "  %11 = call { i64, i1 } @llvm.sadd.with.overflow.i64(i64 %10, i64 1)\n",
      "  %12 = extractvalue { i64, i1 } %11, 1\n",
      "  br i1 %12, label %top.split.split.us, label %top.split.top.split.split_crit_edge\n",
      "\n",
      "top.split.top.split.split_crit_edge:              ; preds = %top.top.split_crit_edge\n",
      "  %13 = extractvalue { i64, i1 } %11, 0\n",
      "  %14 = icmp slt i64 %13, 1\n",
      "  br i1 %14, label %L9, label %if13.lr.ph\n",
      "\n",
      "top.split.split.us:                               ; preds = %top.top.split_crit_edge\n",
      "  br i1 undef, label %fail10, label %fail10\n",
      "\n",
      "L9.loopexit:                                      ; preds = %middle.block, %if13\n",
      "  br label %L9\n",
      "\n",
      "L9:                                               ; preds = %L9.loopexit, %top.split.top.split.split_crit_edge\n",
      "  ret void\n",
      "\n",
      "fail.split:                                       ; preds = %top\n",
      "  call void @jl_throw(%jl_value_t* inttoptr (i64 4457432232 to %jl_value_t*))\n",
      "  unreachable\n",
      "\n",
      "fail10:                                           ; preds = %top.split.split.us, %top.split.split.us\n",
      "  call void @jl_throw(%jl_value_t* inttoptr (i64 4457432232 to %jl_value_t*))\n",
      "  unreachable\n",
      "\n",
      "if13.lr.ph:                                       ; preds = %top.split.top.split.split_crit_edge\n",
      "  %15 = bitcast %jl_value_t* %1 to float**\n",
      "  %16 = bitcast %jl_value_t* %2 to float**\n",
      "  %17 = bitcast %jl_value_t* %0 to float**\n",
      "  %18 = load float*, float** %15, align 8\n",
      "  %19 = load float*, float** %16, align 8\n",
      "  %20 = load float*, float** %17, align 8\n",
      "  %backedge.overflow = icmp eq i64 %13, 0\n",
      "  br i1 %backedge.overflow, label %scalar.ph, label %overflow.checked\n",
      "\n",
      "overflow.checked:                                 ; preds = %if13.lr.ph\n",
      "  %n.vec = and i64 %13, -8\n",
      "  %cmp.zero = icmp eq i64 %n.vec, 0\n",
      "  br i1 %cmp.zero, label %middle.block, label %vector.ph\n",
      "\n",
      "vector.ph:                                        ; preds = %overflow.checked\n",
      "  br label %vector.body\n",
      "\n",
      "vector.body:                                      ; preds = %vector.body, %vector.ph\n",
      "  %index = phi i64 [ 0, %vector.ph ], [ %index.next, %vector.body ]\n",
      "  %21 = getelementptr float, float* %18, i64 %index\n",
      "  %22 = bitcast float* %21 to <4 x float>*\n",
      "  %wide.load = load <4 x float>, <4 x float>* %22, align 4\n",
      "  %23 = getelementptr float, float* %21, i64 4\n",
      "  %24 = bitcast float* %23 to <4 x float>*\n",
      "  %wide.load29 = load <4 x float>, <4 x float>* %24, align 4\n",
      "  %25 = getelementptr float, float* %19, i64 %index\n",
      "  %26 = bitcast float* %25 to <4 x float>*\n",
      "  %wide.load30 = load <4 x float>, <4 x float>* %26, align 4\n",
      "  %27 = getelementptr float, float* %25, i64 4\n",
      "  %28 = bitcast float* %27 to <4 x float>*\n",
      "  %wide.load31 = load <4 x float>, <4 x float>* %28, align 4\n",
      "  %29 = fadd <4 x float> %wide.load, %wide.load30\n",
      "  %30 = fadd <4 x float> %wide.load29, %wide.load31\n",
      "  %31 = getelementptr float, float* %20, i64 %index\n",
      "  %32 = bitcast float* %31 to <4 x float>*\n",
      "  store <4 x float> %29, <4 x float>* %32, align 4\n",
      "  %33 = getelementptr float, float* %31, i64 4\n",
      "  %34 = bitcast float* %33 to <4 x float>*\n",
      "  store <4 x float> %30, <4 x float>* %34, align 4\n",
      "  %index.next = add i64 %index, 8\n",
      "  %35 = icmp eq i64 %index.next, %n.vec\n",
      "  br i1 %35, label %middle.block, label %vector.body\n",
      "\n",
      "middle.block:                                     ; preds = %vector.body, %overflow.checked\n",
      "  %resume.val = phi i64 [ 0, %overflow.checked ], [ %n.vec, %vector.body ]\n",
      "  %trunc.resume.val = phi i64 [ 0, %overflow.checked ], [ %n.vec, %vector.body ]\n",
      "  %cmp.n = icmp eq i64 %13, %resume.val\n",
      "  br i1 %cmp.n, label %L9.loopexit, label %scalar.ph\n",
      "\n",
      "scalar.ph:                                        ; preds = %middle.block, %if13.lr.ph\n",
      "  %bc.trunc.resume.val = phi i64 [ %trunc.resume.val, %middle.block ], [ 0, %if13.lr.ph ]\n",
      "  br label %if13\n",
      "\n",
      "if13:                                             ; preds = %if13, %scalar.ph\n",
      "  %\"i#415.015\" = phi i64 [ %bc.trunc.resume.val, %scalar.ph ], [ %42, %if13 ]\n",
      "  %36 = getelementptr float, float* %18, i64 %\"i#415.015\"\n",
      "  %37 = load float, float* %36, align 4\n",
      "  %38 = getelementptr float, float* %19, i64 %\"i#415.015\"\n",
      "  %39 = load float, float* %38, align 4\n",
      "  %40 = fadd float %37, %39\n",
      "  %41 = getelementptr float, float* %20, i64 %\"i#415.015\"\n",
      "  store float %40, float* %41, align 4\n",
      "  %42 = add nuw nsw i64 %\"i#415.015\", 1\n",
      "  %exitcond = icmp eq i64 %42, %13\n",
      "  br i1 %exitcond, label %L9.loopexit, label %if13\n",
      "}\n"
     ]
    }
   ],
   "source": [
    "@code_llvm sum_vector_simd!(zeros(Float32, 1000_000), rand(Float32, 1000_000), rand(Float32, 1000_000))"
   ]
  },
  {
   "cell_type": "markdown",
   "metadata": {},
   "source": [
    "* Yeppp! for fast vector operations\n",
    "\n",
    "> **transcendental functions** (log, sin, cos, exp and sumabs)\n",
    "\n",
    "> Yeppp! software suite can be considered state-of-the-art. Primarily written at **Georgia Institute of Technology** by **Marat Dukhan**, Yeppp! provides optimized implementations of modern processors of these functions, which are much faster compared to the implementations in system libraries"
   ]
  },
  {
   "cell_type": "code",
   "execution_count": 45,
   "metadata": {},
   "outputs": [
    {
     "data": {
      "text/plain": [
       "================ Benchmark Results ========================\n",
       "     Time per evaluation: 2.47 ms [1.46 ms, 3.48 ms]\n",
       "Proportion of time in GC: 1.70% [0.00%, 7.77%]\n",
       "        Memory allocated: 781.36 kb\n",
       "   Number of allocations: 4 allocations\n",
       "       Number of samples: 100\n",
       "   Number of evaluations: 100\n",
       " Time spent benchmarking: 0.53 s\n"
      ]
     },
     "execution_count": 45,
     "metadata": {},
     "output_type": "execute_result"
    }
   ],
   "source": [
    "a = rand(100_000)\n",
    "@benchmark log(a)"
   ]
  },
  {
   "cell_type": "code",
   "execution_count": 46,
   "metadata": {},
   "outputs": [
    {
     "data": {
      "text/plain": [
       "================ Benchmark Results ========================\n",
       "     Time per evaluation: 456.86 μs [199.63 μs, 714.09 μs]\n",
       "Proportion of time in GC: 2.26% [0.00%, 10.02%]\n",
       "        Memory allocated: 781.33 kb\n",
       "   Number of allocations: 2 allocations\n",
       "       Number of samples: 100\n",
       "   Number of evaluations: 100\n",
       " Time spent benchmarking: 0.29 s\n"
      ]
     },
     "execution_count": 46,
     "metadata": {},
     "output_type": "execute_result"
    }
   ],
   "source": [
    "using Yeppp\n",
    "@benchmark Yeppp.log(a)"
   ]
  },
  {
   "cell_type": "code",
   "execution_count": 48,
   "metadata": {},
   "outputs": [
    {
     "data": {
      "text/plain": [
       "================ Benchmark Results ========================\n",
       "     Time per evaluation: 218.25 μs [185.63 μs, 250.86 μs]\n",
       "Proportion of time in GC: 0.00% [0.00%, 0.00%]\n",
       "        Memory allocated: 0.00 bytes\n",
       "   Number of allocations: 0 allocations\n",
       "       Number of samples: 100\n",
       "   Number of evaluations: 100\n",
       " Time spent benchmarking: 0.27 s\n"
      ]
     },
     "execution_count": 48,
     "metadata": {},
     "output_type": "execute_result"
    }
   ],
   "source": [
    "@benchmark Yeppp.log!(a)"
   ]
  },
  {
   "cell_type": "markdown",
   "metadata": {},
   "source": [
    "* Writing generic library functions using arrays\n",
    "\n",
    "> linear indexing\n",
    "\n",
    "> cartesian indexing"
   ]
  },
  {
   "cell_type": "code",
   "execution_count": 53,
   "metadata": {},
   "outputs": [
    {
     "name": "stderr",
     "output_type": "stream",
     "text": [
      "WARNING: Method definition mysum_linear(AbstractArray) in module Main at In[52]:2 overwritten at In[53]:2.\n"
     ]
    },
    {
     "data": {
      "text/plain": [
       "================ Benchmark Results ========================\n",
       "     Time per evaluation: 1.46 ms [1.42 ms, 1.50 ms]\n",
       "Proportion of time in GC: 0.00% [0.00%, 0.00%]\n",
       "        Memory allocated: 0.00 bytes\n",
       "   Number of allocations: 0 allocations\n",
       "       Number of samples: 100\n",
       "   Number of evaluations: 100\n",
       " Time spent benchmarking: 0.37 s\n"
      ]
     },
     "execution_count": 53,
     "metadata": {},
     "output_type": "execute_result"
    }
   ],
   "source": [
    "function mysum_linear(a::AbstractArray)\n",
    "    s = zero(eltype(a))\n",
    "    for i = 1:length(a)\n",
    "        s = s + a[i]\n",
    "    end\n",
    "    return s\n",
    "end\n",
    "\n",
    "mysum_linear(1:1000_000)\n",
    "mysum_linear(reshape(1:1000_000, 100, 100, 100))\n",
    "mysum_linear(reshape(1:1000_000, 1000, 1000))\n",
    "mysum_linear(view(reshape(1:1000_000, 1000, 1000), 1:500, 1:500))\n",
    "\n",
    "@benchmark mysum_linear(reshape(1:1000_000, 1000, 1000))"
   ]
  },
  {
   "cell_type": "code",
   "execution_count": 54,
   "metadata": {},
   "outputs": [
    {
     "data": {
      "text/plain": [
       "================ Benchmark Results ========================\n",
       "     Time per evaluation: 3.28 ms [3.00 ms, 3.56 ms]\n",
       "Proportion of time in GC: 0.00% [0.00%, 0.00%]\n",
       "        Memory allocated: 0.00 bytes\n",
       "   Number of allocations: 0 allocations\n",
       "       Number of samples: 100\n",
       "   Number of evaluations: 100\n",
       " Time spent benchmarking: 0.58 s\n"
      ]
     },
     "execution_count": 54,
     "metadata": {},
     "output_type": "execute_result"
    }
   ],
   "source": [
    "# calling the same function on a subarray is significantly slower than calling it on a regular dense array\n",
    "@benchmark mysum_linear(view(reshape(1:1000_000, 1000, 1000), 1:500, 1:500))"
   ]
  },
  {
   "cell_type": "markdown",
   "metadata": {},
   "source": [
    "> write generic functions that can be performant with different kinds of arrays. The simplest option is to directly iterate the array rather than iterating its indices. The iterator for each kind of array will choose the most optimal strategy for high performance."
   ]
  },
  {
   "cell_type": "code",
   "execution_count": 55,
   "metadata": {},
   "outputs": [
    {
     "data": {
      "text/plain": [
       "================ Benchmark Results ========================\n",
       "     Time per evaluation: 569.41 μs [509.62 μs, 629.19 μs]\n",
       "Proportion of time in GC: 0.00% [0.00%, 0.00%]\n",
       "        Memory allocated: 0.00 bytes\n",
       "   Number of allocations: 0 allocations\n",
       "       Number of samples: 100\n",
       "   Number of evaluations: 100\n",
       " Time spent benchmarking: 0.29 s\n"
      ]
     },
     "execution_count": 55,
     "metadata": {},
     "output_type": "execute_result"
    }
   ],
   "source": [
    "function mysum_in(a::AbstractArray)\n",
    "    s = zero(eltype(a))\n",
    "    for i in a\n",
    "        s = s + i\n",
    "    end\n",
    "    return s\n",
    "end\n",
    "\n",
    "@benchmark mysum_in(view(reshape(1:1000_000, 1000, 1000), 1:500, 1:500))"
   ]
  },
  {
   "cell_type": "code",
   "execution_count": 56,
   "metadata": {},
   "outputs": [
    {
     "data": {
      "text/plain": [
       "================ Benchmark Results ========================\n",
       "     Time per evaluation: 558.86 μs [503.86 μs, 613.86 μs]\n",
       "Proportion of time in GC: 0.00% [0.00%, 0.00%]\n",
       "        Memory allocated: 0.00 bytes\n",
       "   Number of allocations: 0 allocations\n",
       "       Number of samples: 100\n",
       "   Number of evaluations: 100\n",
       " Time spent benchmarking: 0.28 s\n"
      ]
     },
     "execution_count": 56,
     "metadata": {},
     "output_type": "execute_result"
    }
   ],
   "source": [
    "function mysum_eachindex(a::AbstractArray)\n",
    "    s = zero(eltype(a))\n",
    "    for i in eachindex(a)\n",
    "        s = s + a[i]\n",
    "    end\n",
    "    return s\n",
    "end\n",
    "\n",
    "@benchmark mysum_eachindex(view(reshape(1:1000_000, 1000, 1000), 1:500, 1:500))"
   ]
  },
  {
   "cell_type": "markdown",
   "metadata": {},
   "source": [
    "-------------------------------\n",
    "7 **Beyond the single processor**\n",
    "\n",
    "* Parallelism in Julia\n",
    "\n",
    "> The communication between Julia processes is **one-sided** in the sense of there being a **master process** that accepts the user's inputs and controls all the other processes. **Starting a cluster**, therefore, involves:\n",
    "\n",
    "> either a command-line switch while starting the master Julia process(julia -p n)\n",
    "\n",
    "> or calling methods from **REPL**"
   ]
  },
  {
   "cell_type": "code",
   "execution_count": 1,
   "metadata": {},
   "outputs": [
    {
     "data": {
      "text/plain": [
       "1-element Array{Int64,1}:\n",
       " 1"
      ]
     },
     "execution_count": 1,
     "metadata": {},
     "output_type": "execute_result"
    }
   ],
   "source": [
    "procs()"
   ]
  },
  {
   "cell_type": "code",
   "execution_count": 2,
   "metadata": {},
   "outputs": [
    {
     "data": {
      "text/plain": [
       "2-element Array{Int64,1}:\n",
       " 2\n",
       " 3"
      ]
     },
     "execution_count": 2,
     "metadata": {},
     "output_type": "execute_result"
    }
   ],
   "source": [
    "# launch multiple Julia processes on the same machine\n",
    "addprocs(2)"
   ]
  },
  {
   "cell_type": "code",
   "execution_count": 3,
   "metadata": {},
   "outputs": [
    {
     "data": {
      "text/plain": [
       "3-element Array{Int64,1}:\n",
       " 1\n",
       " 2\n",
       " 3"
      ]
     },
     "execution_count": 3,
     "metadata": {},
     "output_type": "execute_result"
    }
   ],
   "source": [
    "procs()"
   ]
  },
  {
   "cell_type": "code",
   "execution_count": null,
   "metadata": {},
   "outputs": [
    {
     "name": "stderr",
     "output_type": "stream",
     "text": [
      "ssh: connect to host 10.9.2.1 port 22: Connection refused\r\n"
     ]
    }
   ],
   "source": [
    "# start processes on other hosts by providing the hostname\n",
    "# by default, uses Secure Shell (SSH) to connect to and start Julia processes on remote machines\n",
    "addprocs([\"10.9.2.1\",\"10.9.2.2\"])"
   ]
  },
  {
   "cell_type": "markdown",
   "metadata": {},
   "source": [
    "> Communication between Julia processes:\n",
    "\n",
    "> **remote references** a reference to data residing on a different Julia process. Thereby, values can be retrieved from (or written to) such a reference\n",
    "\n",
    "> **remote calls** a request to execute a function on a particular node. Such a call is **asynchronous** in that a remote calls finishes immediately, returning the **RemoteRef** object, which is a reference to its result. The arguments to **remotecall** are the function name, the process number to execute the function in, and the arguments to this function. The caller, then, has the option to **wait()** on the reference until the call completes and then **fetch()** the result into its own process"
   ]
  },
  {
   "cell_type": "code",
   "execution_count": 4,
   "metadata": {},
   "outputs": [
    {
     "data": {
      "text/plain": [
       "Future(2,1,4,Nullable{Any}())"
      ]
     },
     "execution_count": 4,
     "metadata": {},
     "output_type": "execute_result"
    }
   ],
   "source": [
    "a = remotecall(sqrt, 2, 4.0)"
   ]
  },
  {
   "cell_type": "code",
   "execution_count": 5,
   "metadata": {},
   "outputs": [
    {
     "data": {
      "text/plain": [
       "Future(2,1,4,Nullable{Any}())"
      ]
     },
     "execution_count": 5,
     "metadata": {},
     "output_type": "execute_result"
    }
   ],
   "source": [
    "wait(a)"
   ]
  },
  {
   "cell_type": "code",
   "execution_count": 6,
   "metadata": {},
   "outputs": [
    {
     "data": {
      "text/plain": [
       "2.0"
      ]
     },
     "execution_count": 6,
     "metadata": {},
     "output_type": "execute_result"
    }
   ],
   "source": [
    "fetch(a)"
   ]
  },
  {
   "cell_type": "code",
   "execution_count": 7,
   "metadata": {},
   "outputs": [
    {
     "data": {
      "text/plain": [
       "2.0"
      ]
     },
     "execution_count": 7,
     "metadata": {},
     "output_type": "execute_result"
    }
   ],
   "source": [
    "remotecall_fetch(sqrt, 3, 4.0)"
   ]
  },
  {
   "cell_type": "markdown",
   "metadata": {},
   "source": [
    "* Programming parallel tasks\n",
    "\n",
    "> **@everywhere**: run the same code in all the processes in the cluster\n",
    "\n",
    "> **@spawn**: run a function in a remote process without having to specify the remote node or having to work through ambiguous syntax"
   ]
  },
  {
   "cell_type": "code",
   "execution_count": 9,
   "metadata": {},
   "outputs": [],
   "source": [
    "@everywhere using Distributions"
   ]
  },
  {
   "cell_type": "code",
   "execution_count": 12,
   "metadata": {},
   "outputs": [],
   "source": [
    "@everywhere rand(Normal())"
   ]
  },
  {
   "cell_type": "code",
   "execution_count": 13,
   "metadata": {},
   "outputs": [
    {
     "data": {
      "text/plain": [
       "5×5 Array{Float64,2}:\n",
       "  2.00928   -3.41641    0.00519312  -0.712963  -1.2409  \n",
       " -0.564294  -0.58687   -0.63263      0.153521  -0.102204\n",
       " -6.47075    6.26515   -1.94546      3.45172    0.184656\n",
       "  0.742266  -2.63888    0.335607    -0.384263   0.918937\n",
       "  0.259083   0.491989   0.832052    -1.13948    4.04694 "
      ]
     },
     "execution_count": 13,
     "metadata": {},
     "output_type": "execute_result"
    }
   ],
   "source": [
    "a = @spawn randn(5, 5)^2\n",
    "fetch(a)"
   ]
  },
  {
   "cell_type": "code",
   "execution_count": 14,
   "metadata": {
    "scrolled": true
   },
   "outputs": [
    {
     "data": {
      "text/plain": [
       "5×5 Array{Float64,2}:\n",
       " 1.84477  1.92049   1.59153  1.86899  1.22972 \n",
       " 1.02286  0.938224  0.82305  1.41715  0.539441\n",
       " 2.37387  2.34766   1.95303  2.3717   1.52201 \n",
       " 1.6465   1.40026   1.44954  1.41447  1.0399  \n",
       " 1.63774  1.5834    1.35251  1.82918  0.929488"
      ]
     },
     "execution_count": 14,
     "metadata": {},
     "output_type": "execute_result"
    }
   ],
   "source": [
    "# at current node\n",
    "b = rand(5, 5)\n",
    "# copied over to the remote node\n",
    "a = @spawn b ^ 2\n",
    "\n",
    "# Even though the two code extracts look similar, they have very different performance characteristics\n",
    "fetch(a)"
   ]
  },
  {
   "cell_type": "code",
   "execution_count": 15,
   "metadata": {},
   "outputs": [
    {
     "data": {
      "text/plain": [
       "================ Benchmark Results ========================\n",
       "     Time per evaluation: 6.47 ms [5.75 ms, 7.19 ms]\n",
       "Proportion of time in GC: 0.00% [0.00%, 0.00%]\n",
       "        Memory allocated: 0.00 bytes\n",
       "   Number of allocations: 0 allocations\n",
       "       Number of samples: 100\n",
       "   Number of evaluations: 100\n",
       " Time spent benchmarking: 0.95 s\n"
      ]
     },
     "execution_count": 15,
     "metadata": {},
     "output_type": "execute_result"
    }
   ],
   "source": [
    "using Benchmarks\n",
    "function serial_add()\n",
    "    s = 0.0\n",
    "    for i = 1:1000_000\n",
    "        s = s + randn()\n",
    "    end\n",
    "    return s\n",
    "end\n",
    "\n",
    "# reduction\n",
    "function parallel_add()\n",
    "    return @parallel (+) for i = 1:1000_000\n",
    "        randn()\n",
    "    end\n",
    "end\n",
    "\n",
    "@benchmark serial_add()"
   ]
  },
  {
   "cell_type": "code",
   "execution_count": 16,
   "metadata": {},
   "outputs": [
    {
     "data": {
      "text/plain": [
       "================ Benchmark Results ========================\n",
       "     Time per evaluation: 4.59 ms [3.91 ms, 5.27 ms]\n",
       "Proportion of time in GC: 0.00% [0.00%, 0.00%]\n",
       "        Memory allocated: 22.50 kb\n",
       "   Number of allocations: 281 allocations\n",
       "       Number of samples: 100\n",
       "   Number of evaluations: 100\n",
       " Time spent benchmarking: 1.56 s\n"
      ]
     },
     "execution_count": 16,
     "metadata": {},
     "output_type": "execute_result"
    }
   ],
   "source": [
    "@benchmark parallel_add()"
   ]
  },
  {
   "cell_type": "code",
   "execution_count": 17,
   "metadata": {},
   "outputs": [
    {
     "data": {
      "text/plain": [
       "================ Benchmark Results ========================\n",
       "     Time per evaluation: 250.78 ms [221.10 ms, 280.46 ms]\n",
       "Proportion of time in GC: 0.14% [0.00%, 0.45%]\n",
       "        Memory allocated: 5.47 mb\n",
       "   Number of allocations: 242 allocations\n",
       "       Number of samples: 27\n",
       "   Number of evaluations: 27\n",
       " Time spent benchmarking: 7.53 s\n"
      ]
     },
     "execution_count": 17,
     "metadata": {},
     "output_type": "execute_result"
    }
   ],
   "source": [
    "x = [rand(100, 100) for _ in 1:10]\n",
    "\n",
    "@benchmark map(svd, x)"
   ]
  },
  {
   "cell_type": "code",
   "execution_count": 18,
   "metadata": {},
   "outputs": [
    {
     "data": {
      "text/plain": [
       "================ Benchmark Results ========================\n",
       "     Time per evaluation: 153.63 ms [120.94 ms, 186.32 ms]\n",
       "Proportion of time in GC: 0.14% [0.00%, 0.67%]\n",
       "        Memory allocated: 1.63 mb\n",
       "   Number of allocations: 2023 allocations\n",
       "       Number of samples: 48\n",
       "   Number of evaluations: 48\n",
       " Time spent benchmarking: 10.02 s\n"
      ]
     },
     "execution_count": 18,
     "metadata": {},
     "output_type": "execute_result"
    }
   ],
   "source": [
    "@benchmark pmap(svd, x)"
   ]
  },
  {
   "cell_type": "markdown",
   "metadata": {},
   "source": [
    "* Shared memory arrays\n",
    "\n",
    "> **DistributedArrays**: a fully generic solution that scales across many networked hosts in order to work on data that cannot fit in the memory of a single machine"
   ]
  },
  {
   "cell_type": "code",
   "execution_count": 19,
   "metadata": {},
   "outputs": [
    {
     "data": {
      "text/plain": [
       "100×100×5 SharedArray{Float64,3}:\n",
       "[:, :, 1] =\n",
       " 0.0  0.0  0.0  0.0  0.0  0.0  0.0  0.0  …  0.0  0.0  0.0  0.0  0.0  0.0  0.0\n",
       " 0.0  0.0  0.0  0.0  0.0  0.0  0.0  0.0     0.0  0.0  0.0  0.0  0.0  0.0  0.0\n",
       " 0.0  0.0  0.0  0.0  0.0  0.0  0.0  0.0     0.0  0.0  0.0  0.0  0.0  0.0  0.0\n",
       " 0.0  0.0  0.0  0.0  0.0  0.0  0.0  0.0     0.0  0.0  0.0  0.0  0.0  0.0  0.0\n",
       " 0.0  0.0  0.0  0.0  0.0  0.0  0.0  0.0     0.0  0.0  0.0  0.0  0.0  0.0  0.0\n",
       " 0.0  0.0  0.0  0.0  0.0  0.0  0.0  0.0  …  0.0  0.0  0.0  0.0  0.0  0.0  0.0\n",
       " 0.0  0.0  0.0  0.0  0.0  0.0  0.0  0.0     0.0  0.0  0.0  0.0  0.0  0.0  0.0\n",
       " 0.0  0.0  0.0  0.0  0.0  0.0  0.0  0.0     0.0  0.0  0.0  0.0  0.0  0.0  0.0\n",
       " 0.0  0.0  0.0  0.0  0.0  0.0  0.0  0.0     0.0  0.0  0.0  0.0  0.0  0.0  0.0\n",
       " 0.0  0.0  0.0  0.0  0.0  0.0  0.0  0.0     0.0  0.0  0.0  0.0  0.0  0.0  0.0\n",
       " 0.0  0.0  0.0  0.0  0.0  0.0  0.0  0.0  …  0.0  0.0  0.0  0.0  0.0  0.0  0.0\n",
       " 0.0  0.0  0.0  0.0  0.0  0.0  0.0  0.0     0.0  0.0  0.0  0.0  0.0  0.0  0.0\n",
       " 0.0  0.0  0.0  0.0  0.0  0.0  0.0  0.0     0.0  0.0  0.0  0.0  0.0  0.0  0.0\n",
       " ⋮                        ⋮              ⋱            ⋮                      \n",
       " 0.0  0.0  0.0  0.0  0.0  0.0  0.0  0.0     0.0  0.0  0.0  0.0  0.0  0.0  0.0\n",
       " 0.0  0.0  0.0  0.0  0.0  0.0  0.0  0.0     0.0  0.0  0.0  0.0  0.0  0.0  0.0\n",
       " 0.0  0.0  0.0  0.0  0.0  0.0  0.0  0.0  …  0.0  0.0  0.0  0.0  0.0  0.0  0.0\n",
       " 0.0  0.0  0.0  0.0  0.0  0.0  0.0  0.0     0.0  0.0  0.0  0.0  0.0  0.0  0.0\n",
       " 0.0  0.0  0.0  0.0  0.0  0.0  0.0  0.0     0.0  0.0  0.0  0.0  0.0  0.0  0.0\n",
       " 0.0  0.0  0.0  0.0  0.0  0.0  0.0  0.0     0.0  0.0  0.0  0.0  0.0  0.0  0.0\n",
       " 0.0  0.0  0.0  0.0  0.0  0.0  0.0  0.0     0.0  0.0  0.0  0.0  0.0  0.0  0.0\n",
       " 0.0  0.0  0.0  0.0  0.0  0.0  0.0  0.0  …  0.0  0.0  0.0  0.0  0.0  0.0  0.0\n",
       " 0.0  0.0  0.0  0.0  0.0  0.0  0.0  0.0     0.0  0.0  0.0  0.0  0.0  0.0  0.0\n",
       " 0.0  0.0  0.0  0.0  0.0  0.0  0.0  0.0     0.0  0.0  0.0  0.0  0.0  0.0  0.0\n",
       " 0.0  0.0  0.0  0.0  0.0  0.0  0.0  0.0     0.0  0.0  0.0  0.0  0.0  0.0  0.0\n",
       " 0.0  0.0  0.0  0.0  0.0  0.0  0.0  0.0     0.0  0.0  0.0  0.0  0.0  0.0  0.0\n",
       "\n",
       "[:, :, 2] =\n",
       " 0.0  0.0  0.0  0.0  0.0  0.0  0.0  0.0  …  0.0  0.0  0.0  0.0  0.0  0.0  0.0\n",
       " 0.0  0.0  0.0  0.0  0.0  0.0  0.0  0.0     0.0  0.0  0.0  0.0  0.0  0.0  0.0\n",
       " 0.0  0.0  0.0  0.0  0.0  0.0  0.0  0.0     0.0  0.0  0.0  0.0  0.0  0.0  0.0\n",
       " 0.0  0.0  0.0  0.0  0.0  0.0  0.0  0.0     0.0  0.0  0.0  0.0  0.0  0.0  0.0\n",
       " 0.0  0.0  0.0  0.0  0.0  0.0  0.0  0.0     0.0  0.0  0.0  0.0  0.0  0.0  0.0\n",
       " 0.0  0.0  0.0  0.0  0.0  0.0  0.0  0.0  …  0.0  0.0  0.0  0.0  0.0  0.0  0.0\n",
       " 0.0  0.0  0.0  0.0  0.0  0.0  0.0  0.0     0.0  0.0  0.0  0.0  0.0  0.0  0.0\n",
       " 0.0  0.0  0.0  0.0  0.0  0.0  0.0  0.0     0.0  0.0  0.0  0.0  0.0  0.0  0.0\n",
       " 0.0  0.0  0.0  0.0  0.0  0.0  0.0  0.0     0.0  0.0  0.0  0.0  0.0  0.0  0.0\n",
       " 0.0  0.0  0.0  0.0  0.0  0.0  0.0  0.0     0.0  0.0  0.0  0.0  0.0  0.0  0.0\n",
       " 0.0  0.0  0.0  0.0  0.0  0.0  0.0  0.0  …  0.0  0.0  0.0  0.0  0.0  0.0  0.0\n",
       " 0.0  0.0  0.0  0.0  0.0  0.0  0.0  0.0     0.0  0.0  0.0  0.0  0.0  0.0  0.0\n",
       " 0.0  0.0  0.0  0.0  0.0  0.0  0.0  0.0     0.0  0.0  0.0  0.0  0.0  0.0  0.0\n",
       " ⋮                        ⋮              ⋱            ⋮                      \n",
       " 0.0  0.0  0.0  0.0  0.0  0.0  0.0  0.0     0.0  0.0  0.0  0.0  0.0  0.0  0.0\n",
       " 0.0  0.0  0.0  0.0  0.0  0.0  0.0  0.0     0.0  0.0  0.0  0.0  0.0  0.0  0.0\n",
       " 0.0  0.0  0.0  0.0  0.0  0.0  0.0  0.0  …  0.0  0.0  0.0  0.0  0.0  0.0  0.0\n",
       " 0.0  0.0  0.0  0.0  0.0  0.0  0.0  0.0     0.0  0.0  0.0  0.0  0.0  0.0  0.0\n",
       " 0.0  0.0  0.0  0.0  0.0  0.0  0.0  0.0     0.0  0.0  0.0  0.0  0.0  0.0  0.0\n",
       " 0.0  0.0  0.0  0.0  0.0  0.0  0.0  0.0     0.0  0.0  0.0  0.0  0.0  0.0  0.0\n",
       " 0.0  0.0  0.0  0.0  0.0  0.0  0.0  0.0     0.0  0.0  0.0  0.0  0.0  0.0  0.0\n",
       " 0.0  0.0  0.0  0.0  0.0  0.0  0.0  0.0  …  0.0  0.0  0.0  0.0  0.0  0.0  0.0\n",
       " 0.0  0.0  0.0  0.0  0.0  0.0  0.0  0.0     0.0  0.0  0.0  0.0  0.0  0.0  0.0\n",
       " 0.0  0.0  0.0  0.0  0.0  0.0  0.0  0.0     0.0  0.0  0.0  0.0  0.0  0.0  0.0\n",
       " 0.0  0.0  0.0  0.0  0.0  0.0  0.0  0.0     0.0  0.0  0.0  0.0  0.0  0.0  0.0\n",
       " 0.0  0.0  0.0  0.0  0.0  0.0  0.0  0.0     0.0  0.0  0.0  0.0  0.0  0.0  0.0\n",
       "\n",
       "[:, :, 3] =\n",
       " 0.0  0.0  0.0  0.0  0.0  0.0  0.0  0.0  …  0.0  0.0  0.0  0.0  0.0  0.0  0.0\n",
       " 0.0  0.0  0.0  0.0  0.0  0.0  0.0  0.0     0.0  0.0  0.0  0.0  0.0  0.0  0.0\n",
       " 0.0  0.0  0.0  0.0  0.0  0.0  0.0  0.0     0.0  0.0  0.0  0.0  0.0  0.0  0.0\n",
       " 0.0  0.0  0.0  0.0  0.0  0.0  0.0  0.0     0.0  0.0  0.0  0.0  0.0  0.0  0.0\n",
       " 0.0  0.0  0.0  0.0  0.0  0.0  0.0  0.0     0.0  0.0  0.0  0.0  0.0  0.0  0.0\n",
       " 0.0  0.0  0.0  0.0  0.0  0.0  0.0  0.0  …  0.0  0.0  0.0  0.0  0.0  0.0  0.0\n",
       " 0.0  0.0  0.0  0.0  0.0  0.0  0.0  0.0     0.0  0.0  0.0  0.0  0.0  0.0  0.0\n",
       " 0.0  0.0  0.0  0.0  0.0  0.0  0.0  0.0     0.0  0.0  0.0  0.0  0.0  0.0  0.0\n",
       " 0.0  0.0  0.0  0.0  0.0  0.0  0.0  0.0     0.0  0.0  0.0  0.0  0.0  0.0  0.0\n",
       " 0.0  0.0  0.0  0.0  0.0  0.0  0.0  0.0     0.0  0.0  0.0  0.0  0.0  0.0  0.0\n",
       " 0.0  0.0  0.0  0.0  0.0  0.0  0.0  0.0  …  0.0  0.0  0.0  0.0  0.0  0.0  0.0\n",
       " 0.0  0.0  0.0  0.0  0.0  0.0  0.0  0.0     0.0  0.0  0.0  0.0  0.0  0.0  0.0\n",
       " 0.0  0.0  0.0  0.0  0.0  0.0  0.0  0.0     0.0  0.0  0.0  0.0  0.0  0.0  0.0\n",
       " ⋮                        ⋮              ⋱            ⋮                      \n",
       " 0.0  0.0  0.0  0.0  0.0  0.0  0.0  0.0     0.0  0.0  0.0  0.0  0.0  0.0  0.0\n",
       " 0.0  0.0  0.0  0.0  0.0  0.0  0.0  0.0     0.0  0.0  0.0  0.0  0.0  0.0  0.0\n",
       " 0.0  0.0  0.0  0.0  0.0  0.0  0.0  0.0  …  0.0  0.0  0.0  0.0  0.0  0.0  0.0\n",
       " 0.0  0.0  0.0  0.0  0.0  0.0  0.0  0.0     0.0  0.0  0.0  0.0  0.0  0.0  0.0\n",
       " 0.0  0.0  0.0  0.0  0.0  0.0  0.0  0.0     0.0  0.0  0.0  0.0  0.0  0.0  0.0\n",
       " 0.0  0.0  0.0  0.0  0.0  0.0  0.0  0.0     0.0  0.0  0.0  0.0  0.0  0.0  0.0\n",
       " 0.0  0.0  0.0  0.0  0.0  0.0  0.0  0.0     0.0  0.0  0.0  0.0  0.0  0.0  0.0\n",
       " 0.0  0.0  0.0  0.0  0.0  0.0  0.0  0.0  …  0.0  0.0  0.0  0.0  0.0  0.0  0.0\n",
       " 0.0  0.0  0.0  0.0  0.0  0.0  0.0  0.0     0.0  0.0  0.0  0.0  0.0  0.0  0.0\n",
       " 0.0  0.0  0.0  0.0  0.0  0.0  0.0  0.0     0.0  0.0  0.0  0.0  0.0  0.0  0.0\n",
       " 0.0  0.0  0.0  0.0  0.0  0.0  0.0  0.0     0.0  0.0  0.0  0.0  0.0  0.0  0.0\n",
       " 0.0  0.0  0.0  0.0  0.0  0.0  0.0  0.0     0.0  0.0  0.0  0.0  0.0  0.0  0.0\n",
       "\n",
       "[:, :, 4] =\n",
       " 0.0  0.0  0.0  0.0  0.0  0.0  0.0  0.0  …  0.0  0.0  0.0  0.0  0.0  0.0  0.0\n",
       " 0.0  0.0  0.0  0.0  0.0  0.0  0.0  0.0     0.0  0.0  0.0  0.0  0.0  0.0  0.0\n",
       " 0.0  0.0  0.0  0.0  0.0  0.0  0.0  0.0     0.0  0.0  0.0  0.0  0.0  0.0  0.0\n",
       " 0.0  0.0  0.0  0.0  0.0  0.0  0.0  0.0     0.0  0.0  0.0  0.0  0.0  0.0  0.0\n",
       " 0.0  0.0  0.0  0.0  0.0  0.0  0.0  0.0     0.0  0.0  0.0  0.0  0.0  0.0  0.0\n",
       " 0.0  0.0  0.0  0.0  0.0  0.0  0.0  0.0  …  0.0  0.0  0.0  0.0  0.0  0.0  0.0\n",
       " 0.0  0.0  0.0  0.0  0.0  0.0  0.0  0.0     0.0  0.0  0.0  0.0  0.0  0.0  0.0\n",
       " 0.0  0.0  0.0  0.0  0.0  0.0  0.0  0.0     0.0  0.0  0.0  0.0  0.0  0.0  0.0\n",
       " 0.0  0.0  0.0  0.0  0.0  0.0  0.0  0.0     0.0  0.0  0.0  0.0  0.0  0.0  0.0\n",
       " 0.0  0.0  0.0  0.0  0.0  0.0  0.0  0.0     0.0  0.0  0.0  0.0  0.0  0.0  0.0\n",
       " 0.0  0.0  0.0  0.0  0.0  0.0  0.0  0.0  …  0.0  0.0  0.0  0.0  0.0  0.0  0.0\n",
       " 0.0  0.0  0.0  0.0  0.0  0.0  0.0  0.0     0.0  0.0  0.0  0.0  0.0  0.0  0.0\n",
       " 0.0  0.0  0.0  0.0  0.0  0.0  0.0  0.0     0.0  0.0  0.0  0.0  0.0  0.0  0.0\n",
       " ⋮                        ⋮              ⋱            ⋮                      \n",
       " 0.0  0.0  0.0  0.0  0.0  0.0  0.0  0.0     0.0  0.0  0.0  0.0  0.0  0.0  0.0\n",
       " 0.0  0.0  0.0  0.0  0.0  0.0  0.0  0.0     0.0  0.0  0.0  0.0  0.0  0.0  0.0\n",
       " 0.0  0.0  0.0  0.0  0.0  0.0  0.0  0.0  …  0.0  0.0  0.0  0.0  0.0  0.0  0.0\n",
       " 0.0  0.0  0.0  0.0  0.0  0.0  0.0  0.0     0.0  0.0  0.0  0.0  0.0  0.0  0.0\n",
       " 0.0  0.0  0.0  0.0  0.0  0.0  0.0  0.0     0.0  0.0  0.0  0.0  0.0  0.0  0.0\n",
       " 0.0  0.0  0.0  0.0  0.0  0.0  0.0  0.0     0.0  0.0  0.0  0.0  0.0  0.0  0.0\n",
       " 0.0  0.0  0.0  0.0  0.0  0.0  0.0  0.0     0.0  0.0  0.0  0.0  0.0  0.0  0.0\n",
       " 0.0  0.0  0.0  0.0  0.0  0.0  0.0  0.0  …  0.0  0.0  0.0  0.0  0.0  0.0  0.0\n",
       " 0.0  0.0  0.0  0.0  0.0  0.0  0.0  0.0     0.0  0.0  0.0  0.0  0.0  0.0  0.0\n",
       " 0.0  0.0  0.0  0.0  0.0  0.0  0.0  0.0     0.0  0.0  0.0  0.0  0.0  0.0  0.0\n",
       " 0.0  0.0  0.0  0.0  0.0  0.0  0.0  0.0     0.0  0.0  0.0  0.0  0.0  0.0  0.0\n",
       " 0.0  0.0  0.0  0.0  0.0  0.0  0.0  0.0     0.0  0.0  0.0  0.0  0.0  0.0  0.0\n",
       "\n",
       "[:, :, 5] =\n",
       " 0.0  0.0  0.0  0.0  0.0  0.0  0.0  0.0  …  0.0  0.0  0.0  0.0  0.0  0.0  0.0\n",
       " 0.0  0.0  0.0  0.0  0.0  0.0  0.0  0.0     0.0  0.0  0.0  0.0  0.0  0.0  0.0\n",
       " 0.0  0.0  0.0  0.0  0.0  0.0  0.0  0.0     0.0  0.0  0.0  0.0  0.0  0.0  0.0\n",
       " 0.0  0.0  0.0  0.0  0.0  0.0  0.0  0.0     0.0  0.0  0.0  0.0  0.0  0.0  0.0\n",
       " 0.0  0.0  0.0  0.0  0.0  0.0  0.0  0.0     0.0  0.0  0.0  0.0  0.0  0.0  0.0\n",
       " 0.0  0.0  0.0  0.0  0.0  0.0  0.0  0.0  …  0.0  0.0  0.0  0.0  0.0  0.0  0.0\n",
       " 0.0  0.0  0.0  0.0  0.0  0.0  0.0  0.0     0.0  0.0  0.0  0.0  0.0  0.0  0.0\n",
       " 0.0  0.0  0.0  0.0  0.0  0.0  0.0  0.0     0.0  0.0  0.0  0.0  0.0  0.0  0.0\n",
       " 0.0  0.0  0.0  0.0  0.0  0.0  0.0  0.0     0.0  0.0  0.0  0.0  0.0  0.0  0.0\n",
       " 0.0  0.0  0.0  0.0  0.0  0.0  0.0  0.0     0.0  0.0  0.0  0.0  0.0  0.0  0.0\n",
       " 0.0  0.0  0.0  0.0  0.0  0.0  0.0  0.0  …  0.0  0.0  0.0  0.0  0.0  0.0  0.0\n",
       " 0.0  0.0  0.0  0.0  0.0  0.0  0.0  0.0     0.0  0.0  0.0  0.0  0.0  0.0  0.0\n",
       " 0.0  0.0  0.0  0.0  0.0  0.0  0.0  0.0     0.0  0.0  0.0  0.0  0.0  0.0  0.0\n",
       " ⋮                        ⋮              ⋱            ⋮                      \n",
       " 0.0  0.0  0.0  0.0  0.0  0.0  0.0  0.0     0.0  0.0  0.0  0.0  0.0  0.0  0.0\n",
       " 0.0  0.0  0.0  0.0  0.0  0.0  0.0  0.0     0.0  0.0  0.0  0.0  0.0  0.0  0.0\n",
       " 0.0  0.0  0.0  0.0  0.0  0.0  0.0  0.0  …  0.0  0.0  0.0  0.0  0.0  0.0  0.0\n",
       " 0.0  0.0  0.0  0.0  0.0  0.0  0.0  0.0     0.0  0.0  0.0  0.0  0.0  0.0  0.0\n",
       " 0.0  0.0  0.0  0.0  0.0  0.0  0.0  0.0     0.0  0.0  0.0  0.0  0.0  0.0  0.0\n",
       " 0.0  0.0  0.0  0.0  0.0  0.0  0.0  0.0     0.0  0.0  0.0  0.0  0.0  0.0  0.0\n",
       " 0.0  0.0  0.0  0.0  0.0  0.0  0.0  0.0     0.0  0.0  0.0  0.0  0.0  0.0  0.0\n",
       " 0.0  0.0  0.0  0.0  0.0  0.0  0.0  0.0  …  0.0  0.0  0.0  0.0  0.0  0.0  0.0\n",
       " 0.0  0.0  0.0  0.0  0.0  0.0  0.0  0.0     0.0  0.0  0.0  0.0  0.0  0.0  0.0\n",
       " 0.0  0.0  0.0  0.0  0.0  0.0  0.0  0.0     0.0  0.0  0.0  0.0  0.0  0.0  0.0\n",
       " 0.0  0.0  0.0  0.0  0.0  0.0  0.0  0.0     0.0  0.0  0.0  0.0  0.0  0.0  0.0\n",
       " 0.0  0.0  0.0  0.0  0.0  0.0  0.0  0.0     0.0  0.0  0.0  0.0  0.0  0.0  0.0"
      ]
     },
     "execution_count": 19,
     "metadata": {},
     "output_type": "execute_result"
    }
   ],
   "source": [
    "using DistributedArrays\n",
    "\n",
    "S = SharedArray(Float64, (100, 100, 5), pids=[2,3])"
   ]
  }
 ],
 "metadata": {
  "kernelspec": {
   "display_name": "Julia 1.0.0",
   "language": "julia",
   "name": "julia-1.0"
  },
  "language_info": {
   "file_extension": ".jl",
   "mimetype": "application/julia",
   "name": "julia",
   "version": "0.5.0"
  }
 },
 "nbformat": 4,
 "nbformat_minor": 2
}
